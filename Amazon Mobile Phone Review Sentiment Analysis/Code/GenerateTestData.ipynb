{
  "nbformat": 4,
  "nbformat_minor": 0,
  "metadata": {
    "colab": {
      "name": "GenerateTestData.ipynb",
      "provenance": []
    },
    "kernelspec": {
      "name": "python3",
      "display_name": "Python 3"
    }
  },
  "cells": [
    {
      "cell_type": "markdown",
      "metadata": {
        "id": "GzS6SGZl57t-",
        "colab_type": "text"
      },
      "source": [
        "Importing the Libraries and defining the parameters for the url"
      ]
    },
    {
      "cell_type": "code",
      "metadata": {
        "id": "Ar6RzpegZK2G",
        "colab_type": "code",
        "colab": {}
      },
      "source": [
        "import requests\n",
        "from bs4 import BeautifulSoup\n",
        "import pandas as pd\n",
        "phone_ids = [(\"B07X9YNP5M\", \"DA02XD5RX5TAXJCQSEYH\"),\n",
        "             (\"B07PSHDTHB\", \"S4RVB3AA4VB42JDVMDR8\"),\n",
        "             (\"B07KX1S161\", \"FEJPSJC5Z05NEJVX3ACS\"),\n",
        "             (\"B07X9YN2FJ\", \"89B59YQETSRYE2WGYMYA\"),\n",
        "             (\"B01LZKLPVQ\", \"0HV0E4QAQS0JXPGC5PYQ\"),\n",
        "             (\"B086K9CW1W\", \"05BMNFFC037FEJ2AQY6A\"),\n",
        "             (\"B07DJD1RTM\", \"QCM7P8KATK57C1SGBDAX\"),\n",
        "             (\"B086KGPM5G\", \"SG79XHT3W8JRWVXY1A1B\"),\n",
        "             (\"B071HWTHBK\", \"4JPB3PW8JVAQZFSV8R78\"),\n",
        "             (\"B07S9G65ZQ\", \"FY8J5B6YY17H5MJ3QHSF\")]\n",
        "types = [\"positive\", \"critical\"]"
      ],
      "execution_count": 10,
      "outputs": []
    },
    {
      "cell_type": "markdown",
      "metadata": {
        "id": "ILQ_hXxs6F9N",
        "colab_type": "text"
      },
      "source": [
        "Appending the parameters in each url string using a for loop and creating an object for each response to retrieve the page content."
      ]
    },
    {
      "cell_type": "code",
      "metadata": {
        "id": "SDJ762zlZEia",
        "colab_type": "code",
        "colab": {}
      },
      "source": [
        "reviews = []\n",
        "phones = []\n",
        "for (i, j) in phone_ids:\n",
        "  for t in types:\n",
        "    url = \"https://www.amazon.in/gp/product-reviews/\"+str(i)+\"/ref=cm_cr_arp_d_viewpnt_rgt?pf_rd_p=3d639351-9efb-48d1-9e5a-678972cf859b&pf_rd_s=merchandised-search-4&pf_rd_t=101&pf_rd_i=1389401031&pf_rd_m=A1VBAL9TL5WCBF&pf_rd_r=\"+str(j)+\"&filterByStar=\"+str(t)+\"&pageNumber=1\"\n",
        "    page = requests.get(url)\n",
        "    soup = BeautifulSoup(page.content, 'html.parser')  \n",
        "    results = soup.find_all(class_=\"a-size-base review-text review-text-content\")\n",
        "    name = soup.find(\"title\")\n",
        "    for i in results:\n",
        "      text = i.span.text\n",
        "      reviews.append(text.strip())\n",
        "      phones.append(name.text.replace(\"Amazon.in:Customer reviews:\", \"\"))"
      ],
      "execution_count": 4,
      "outputs": []
    },
    {
      "cell_type": "markdown",
      "metadata": {
        "id": "hTkTna8t64nN",
        "colab_type": "text"
      },
      "source": [
        "Viewing the list of reviews"
      ]
    },
    {
      "cell_type": "code",
      "metadata": {
        "id": "Z33ERNUp5k4b",
        "colab_type": "code",
        "colab": {
          "base_uri": "https://localhost:8080/",
          "height": 54
        },
        "outputId": "99379e06-7018-4731-b7f6-653c46df5c7a"
      },
      "source": [
        "print(reviews)"
      ],
      "execution_count": 5,
      "outputs": [
        {
          "output_type": "stream",
          "text": [
            "[\"Initial impressions -It's not bad but it's also not extremely brilliant. I think if the price would be 25, 000 then it would be acceptable even if that is also too high. But 30, 000 was a premium for sure.Things I liked -1. Processor is decent.2. Overall display & camera is as I expected3. External speaker is goodThings I did not like and hoped it had -1. A solid aluminium body (because it's 30, 000)2. Battery should have been 5000 mah instead of 4500 mahWill add later on...\", \"It is a wonderful phone. The experience has been pretty much overwhelming and I'm really enjoying the handset.Pros:1. The screen is absolutely gorgeous to look at. I have seen other AMOLED panels from Xiaomi, Realme and even OnePlus but none match this one.2. The performance is pretty good. It feels snappy, no lag or crashes anywhere. Every app opens in a jiffy and there is no hang anywhere. I have also played Call of Duty and Asphalt quite heavily and they ran at the highest visual settings while maintaining very good fps.3. The camera is the best in class. Anyone eyeing at A71 would already be knowing that it has best camera in a phone below the 30k price. I am really surprised how well the cameras(both the front and back) work, even in low-light. With gcam mod installed, it performs extremely well. The photos are rich, detailed, sharp and contrasty. The portrait mode also works very nice. No issues whatsoever.4. Battery life is good. No issues there. Easily lasts me over a day with moderate gaming, heavy movie watching and using other apps. The fast charge is also quite handy and time saving.5. The overall build is very sturdy yet pretty slender and sleek. Even though the back is made of mostly plastic, you won't be able to tell. It looks gorgeous and the benefit of a glastic back is that it won't shatter if it falls.6. The audio through the audio jack is very very good. The included earphones are a bonus. I wasn't expecting them and to my surprise they sound very good, slightly better than the Realme bluetooth earphones. So, no complaints here.7. Having used stock android, zen ui, miui and colour os, I can firmly say that Samsung's One UI is better than all of them. Obviously it is not as fast as a stock android but the difference is so small I guess you wouldn't even be able to discern it. The OS is very intuitive, easy to use and has many useful features and functionalities which make it probably one of the best android implementation out there (if not the best).Cons:1. The on-screen fingerprint reader takes getting used to. It is not as fast as a non on-screen one and sometimes fails to recognise. Overall, it is good, just requires getting used to. However, it could be improved through software patch. Samsung, if you are reading this, kindly address it.2. The speaker on the phone is okay. For a 30k phone, the speakers are not justified.So overall it is a wonderful device and I would recommend that if your budget allows, it is definitely worth a try. Sure, there are better specd phones out there for the same or lower price but do they provide you the experience you get with Samsung? No, not even close. Also, inspite of the market rage, I am still not a fan of Chinese brands like Xiaomi, Oppo, Vivo, etc. So it is also a factor which urged me over to Samsung.I hope you found my review useful.\", \"It's an awesome phone. Cameras are wonderful. I m very happy with its overall performance. Battery seems to last longer after a days use. Nice display.\", 'I am writing this review after a week of usage..Number one feature of this phone is the super amoled display.Performance is good, handles heavy games with ease. Cameras are great too..', 'It delivers everything it promises. Beautiful display, good camera, long battery life. The performance for everyday tasks is smooth. Watching videos and movies is a delight!', 'Excellent phone for the given price, it has few options like samsung pay and camera clarity.Works very well with gear3.', 'Fantastic phone and the best by samsung fr this price range till now. if u r a samsung lover and this price is fine fr u..then this is fr u ! everything abt is awsm and dnt ever compare and samsung phone with redmi or realme. u cn compare those two but samsung is samsung..it is another level.', \"I do understand the inherent dichotomy in calling a phone as a premium VFM phone, but my analysis herein may be able to throw some light on it.This phone boasts of some superb features like SD 730 processors, perhaps one of the best mid-range processors, a 6.7-inch screen, premium plastic cover, but nevertheless its step-siblings of Chinese origin will cost at least 8K less, notwithstanding the same specifications. I got this phone for around Rs. 29,999/=, post cashback, deductions et al. Hence, it can truly be called a premium VFM phone. The question that would naturally arise as to why should you go for it then? or What could be the differentiating factor.First of all, this phone seems quite premium in hand, at least much better than its cheaper siblings. The range of customizations that this phone has right from battery optimization to display, are simply mind-boggling at this price point. You should not harbour a sky-high expectation though.Its display is crisp with just the right amount of shine and gloss, soothing to the eyes, yet quite snazzy.Camera and video pictures are vivid, crisp, just the type what an ordinary customer/user looks for.Holding in the hand does not give you any bulky feel, for though it has a large enough screen size, it is not that bulky in the pocket, though in tight jeans pants, it might not fit in into an ordinary built man/woman's pocket. Keep this in mind though.Battery life is decent, but with 4500 mAh battery, you must not expect two days of continuous usage. With two hours of talk time, some video meetings of around a little more than one hour, net surfing for around the same hour, watching video for around 2 hours will last you around 22 hours at a stretch, and this is available with 100 percent charge, to begin with. So you calculate accordingly, the battery energy of this phone.Its C-type charging cable's interface would mean, that such cable and the charger are not the ordinary type which you kept on using all these years. If you want a spare one, even though the cable is easily available, the charger adapter with its adequate fast charge characteristics are a little hard to come by and definitely is it costlier.Reception is good, but definitely not excellent. I am using the same with Airtel and Jio sim card and with Jio's good connectivity, I can only term it to be 'good' and definitely not 'excellent'.But for a user like me, for whom data security is definitely supreme, what keeps it different from the rest is the aspect of Samsung Knox, its security feature, which is quite a good one, and very reliable. Those conscious of data security, should go for this model perhaps only because of this.It has several innovative customisations, which are indeed very user friendly and convenient. Its side display mode is really very helpful and it also contributes to make it stand out from the rest of its cheaper siblings.All in all it is a premium VFM phone.\", 'the phone is of excellent quality ...you can feel the Samsung brand when you take it in your hand. camera quality is very good, battery power of 4500mah is quite ok than expected..speed is too good..overall a very good buy..i will recommend to buy this phone without keeping any doubt in your mind regarding the quality of Samsung.. Thanks Samsung :)', \"Camera-pictures quality is superb. Scene optimizer really help in clicking good pictures. Macro and wide camera work well. 64 megapixels pictures have more clarity but it doesn't support zoom.Battery- Once it is charged, it stays day long. Charging speed is very good.Screen-quality is amazing, crisp & clear.Applications- runs smoothly without any lag so far.Sound- Dolbyatmos and equalizer help in improving music quality through earphones. Phone speaker sound is optimum & not too much loud.Consist of dedicated micro sd slot.Phone body is sleek and quiet comfortably fits in hand.Screen fingure print sensor isn't very good sometimes it doesn't recognized.Will add more detail after experience with phone.\", 'Poor camera', 'Mobile is a very good battery backup nice camera very good but video picture quality is low', 'Everything is good except Camera, if ur looking for perfect camera then dnt buy this phone, if u are ok and can manage low camera feature then go for it 👌', 'The picture quality of this phone is much below expectations . The picture quality of a13 Megapixel camera phone is like a photo clicked by 2MP camera..Overall phone is good built...BUT DONT GO FOR BUYING IF YOU LOVE PHOTOGRAPHY and even if know a bit of technical stuff i.e Mega pixels', 'Phone is good only is looking ,battery backup is not good like 5000 MAH,camera quality is very poor,I think not should purchase .', 'Totally disappointed to this phone one day battery backup camera quality is very poor totally waste of money dont buy this phone', 'Poor quality camera', 'Very dissatisfied with price pointWhen I purchased this mobile at@11990, that time market price was 10500. I had purchased through zestmoney EMI. Otherwise I will return product.', \"Vivo y12 is hanging very badly and ghae battery is not working as 5000 mAh and the vedio picture quality is not good like as duplicate.  Please don't purchase this mobile please please don't purchase vivo company mobile phone it's duplicate phone and making fool\", 'The phone is awesome but its little bulky and heavy.', 'Not fast charging  no long batterylife, no headphones. Somewhat is happy but disappointed with features.', \"DON'T MAKE THE MISTAKE OF BUYING THIS MOBILE. On the very first day when I tried to start the handset , it didn't start and after a few times trying , it started. After a few minutes , it switched off by itself and wouldn't start. Right now I am running to and fro from the customer service of Vivo to get a replacement. SPARE YOURSELF OF ALL THIS TROUBLE BY NOT BUYING THIS MOBILE.\", 'I would not recommend this phone to anyone.. Its barely 2 months since i have purchased this phone and its already giving me issues like the device is switching off and not turning on.  First time trying product from ViVo.. definitely not impressed. I see similar issues have been reported for this product.. shld have heeded their advice .. : |', 'Very slow phone, functions are very slow.. If u are downloading from google play same tym u open watsapp it will take more sec..at 8000 range this phone is not good.', \"I didn't  get headset & cable... Cheap quality  plz dont buy...\", 'If you are going to buy a phone which comes without headphones, fingerprint sensor, average camera performance & slow at speed FOR this much of money then you have find the best deal. Overall, its a very ok-ok device from every aspect and I think does not value for money . Rest is upto you.', 'Fingerprint reader is slow phone hangs like hell if u wanna play any games which are basic in nature also.. Camera is not. Good at al Nokia 5 mp camera is ten times better than these phone battery is also not good', '4030 Mah Lion Battery but charger given only 1A out put.Very slow charging .You will have to give 12 hours to fully charge the battery may be more then .', 'Welcome back to the era of VGA camera phone is not worth of 7990 better buy Samsung M20 by putting 2000 rupees more. Camera front and back both camera are similar to VGA', 'I dint get screen protector while doing order it has showed that in box screen guard will give with mobile but in box i dint get screen guard im not satisfying', 'It has been half a year since I got this phone. Initially it was buggy but they fixed it all! Totally love my phone. Camera, s pen are as you expect them to be and more! Very happy!', 'Excellent  product its design ,camera ,performance ,super amoled display, sound everything  is super  Spen features omg .super flagship smartphone this is what samsung brand called up for.Thanks Amazon for early delivery  .', 'I always loved the Galaxy Note series but stayed away due to the price being too high compared to what I would prefer to spend on a phone. However, with the Galaxy Note 10 lite, I got the top-class Samsung display, the One UI 2.0, Android 10 running on 6/128 Gigs with a superbly smooth, premium-looking device, a great Camera and the terrific S-pen experience that grows on you with every usage, all under 35k with exchange. I think Samsung has made a killer device that, if it fails, will only be due to its misplaced launch and poor marketing so close to that of the S20 range.The phone feels sturdy, looks premium, and works great. For a mostly business user like me, these features, plus all the little software enhancements and customizations that I am allowed to do make it a very attractive device. The processor, even though it isn\\'t the super-latest Snapdragon what-have-you, doesn\\'t feel one bit dull and the battery lasts a whole day and keeps some to spare even with heavy usage. Not to mention most users are still unlikely to notice the 60Hz refresh rate as sub-par since the number of devices that currently support higher refresh rates can be counted on your fingertips.The Camera, frankly speaking, does not \"WOW\" you but doesn\\'t disappoint you either. The colors, like almost all Samsung phones mid-to-high range, are punchy and the video quality is superb. I haven\\'t had an exhaustive review of the camera yet but haven\\'t found anything to complaint about either. The one thing that I originally was disappointed with was the quality of the fingerprint reader and the face unlocking. I found both to be slow and inaccurate and soon reverted to the good-old grid for unlocking my phone. I am glad it is fixed through a future update recently.Overall I think it\\'s a great device that should hopefully find greater appreciation especially among the business user community as well as those who want a phone that stands out in a crowd for all the good reason and doesn\\'t hit the pocket too hard either!', \"I love Samsung's note phones and the price of the phone is good considering the brand reputation. I strongly feel that I'm completely satisfied with the phone as a note (Note 5 was my first note model) lover. Sound clarity is good and I'm not a gamer so I don't have any objections with the processor.\", 'All the other features work great. S-pen battery lasts something like 1 hour continuous use, then you have to dock it to recharge.Cameras are average, noise increases along with ISO number. But it is alright. It is great for those who want a \"Note\" version at this price range. (I wanted to have one for long.)The fingerprint sensor is a bit imperfect, takes a few finger-presses to recognise. Becomes irritating if you are driving etc. But hopefully, this will improve in the next software upgrade.(There is a face recognition feature to unlock, but I don\\'t feel it very safe.)', 'Love u Samsung for launching your flagship mobile at such an awesome price. The S-pen, camera and display are stunning gorgeous.Fell in love with all features, madly waiting for your next launch.', 'Overall, the Galaxy Note 10 Lite is well-built, feels premium in hand and the display is just fine for watching movies or TV shows as it is for gaming and doodling. We liked the Aura Black colour.Premium and strongly built / Intuitive S Pen stylus features / Large 20:9 aspect ratio screen / Versatile camera features / Value for Money / Good battery life. Thumps Up For Samsung Note 10 Lite.', 'The best💜', \"Phone is okay. Things are like most about it1. Looks and design - its look premium2. S-pen - added many useful functionalities, i love to use it3. Rear camera- awesome4. Front camera - improved alot after updates4. One ui 2.0 - Easy customized os5. Customized function by samsung added many functionalities to phone.6. Battery life - good7. Knox security - extra layer of securityThings which i don't like about it1. Fingerprint sensor- sometimes it doesn't work, smasung should improve it..it annoys alot.2. Average network reception- samsung pls improve it. ..u kept the SAR value very low3 . Only 60 Hz display - missing 90 or 120 Hz display...Overall a nice buy...\", \"Best things are:Reliable and secured product by South Korean brandStunning performanceVery secured and smooth OSCamera quality is none less than other flagship devices by SamsungGood for day to day use, have not checked for heavy gamings yet (but who plays games nowadays)Display is stunningBattery is above averageSlightly costlier, but okay for a brand from a friendly nation. The prices will come down in coming days as the demand for Samsung will see a spike nowOverall, very nice device by SamsungGiving everything in less price doesn't make it value for moneyValue for money comes from quality, security and reliability\", 'Redmi phones cameras are great, of course iPhone is better but is the 6 more Redmi phones that I can get for 1 iPhone justifiable for such a difference in price? Well, absolutely yes.iPhone camera is not just better, it is so much better than comparing them are like comparing a Alto with BMW, yes both have 4 wheels, both have AC, both can run at 100 kmph, but you know the difference.The high price of iPhone is so justified by the sheer brilliance of camera it has. Sure it is just 12 MP, but the clarity, my o my!Sure the battery is just about 2600 compared to 3500 of a Redmi, but it lasts longer than a Redmi.I know I am comparing a low budget phone to a premium one, but there are so many people (I was one of them) who were not able to see the reason behind the steep price of iPhone.I have been using a MacBook for 10 years and since my work depends on it, I need it, but a phone? Why? It is not a necessity like the laptop, it is just for calling and taking pics occasionally, and I have my SLR for photography.But I was so wrong, an iPhone is an iPhone. Once you use it, there is no turning back.My last iPhone was a 4S and then since I love buying phones every 6 months, I shifted to Android (Redmi, Samsung, Honor) to satiate my hunger for new phones. All these phones are superb, no doubt, but once you use the iPhone 7, you know that the difference between these phones and iPhone 6s has got much bigger because of the camera.And features like Airdrop (100 pics transferred from the phone to Macbook within 4-5 seconds) are so good if you are using both iPhone and Macbook.Bottom line, iPhone 7 has jumped a big leap from the 6s and the 8 is almost similar. The X is double the price of a 7, so probably all things taken in account, the iPhone 7 is the best value for money among all phones in India', 'Thanks for Amazon service. phone is very nice and cool also is the display was very very cool the sound clarity is excellent and phone is very slim. And the processor is very fast Nice performance in gaming. Compare to other phones this is superb.', 'First of all one would want to know is the product genuine and not refurbished coz during Amazon Big Sale I got it for 35k.Before unboxing the I checked up at Apple website and Online check with serial no , EMEI no and other detailsAnd it was 100% genuine and new Handset.Phone is working greatDelivery was also quick in 03 days ..', \"Very good specs which can handle updates for next 4 yrs .Good phone for people who don't use power hungry apps for long durations ,camera definitely upto the mark\", 'Everything is awesome when it comes to an iphone. You will surely love it after few days uses.Thanks for Amazon service. phone is very nice and cool. Fingerprint work fast and fine.also is the display was very cool the sound clarity is excellent and phone is very slim. And the processor is very fast Nice performance in gaming. Compare to other android  phones this is superb.Cons:- however now it lags behind its successors in not having FaceID.Go for iphone X or higher.', 'I ordered the 32 GB iPhone 7 via Amazon. The phone arrived on time and well packed. The phone was absolutely new and the manufacturing date was as recent asOctober 2018 itself.  The phone is definitely an excellent upgrade over the iPhone 6 and 6s. It comes pre loaded with iOS 12.0.1 and is extremely fast and zippy. The built of the phone is superb and it feels extremely premium. The camera is amazing and the sound quality is loud with a clear output. Overall an excellent phone.', \"This is my 1st iPhone , got it more for business use. It's super smooth, no hiccups so far, have been using this since around over 4 months. Camera is good enough, though not great at low lights. I got this for 35k on Amazon sale, For all those wanting to try out an iPhone and have never done befote, it's a good start with iPhone 7, won't disappoint you.\", \"The iPhone 7 is a very good quality phone. I love the fact that its screen is 4.7 inches as this means it can fit into my pocket very comfortably. The display is also very good. The software updates about a week or so after the phone is registered with an Apple ID. The touch screen is smoother than my roomie's HTC phone which apparently cost 40,000 (I bought this for 30,000 just before the launch of iPhone 11, which pushed the price down to about 27,000). All in all, this is not a decision that I regret.\", \"This is the first apple mobile I have used, it's nice product, I have never felt like buying apple mobile products (before apple 6), as the mobiles look and feel were not good. But when I saw Apple 7 I felt like buying the product without seeing the features of the product, it's bit costly, but it is good.Picture quality is good, sound quality is good and the touch is very smooth, more over Siri feature is awesome and it is tooo fast for fetching the details.The only dislike I have with apple is you have to buy the APP'S and they are bit costly.\", \"My second iPhone after the 5 series have been an android user for many years. K basically switched from a stock android as many of the critical apps such as banking apps and messengers used to freeze indiscriminately. This doesn't seem to be the case here. My needs are met I'm happy\", 'Average phoneThe display speed is very slowTouch working slowCamera not good as expectedNot happy with this phone', 'Product is only valubale for calling and browing ,apart from that it is not able to handle high backup apps.even it got hanged when iam using facebook app.So kindly look before you buy ,regaring the data you are going to handle on this mobile .', 'It is a budget and decent smartphone. But it has little slow performance as compared to other budget smartphone in this price segment. Overall performance is good. Camera could more better as compared with other smartphone.', 'It hangs a lot. And replaced my first order but fingerprint sensor stopped working in replacement phone.', \"Do not buy it, not at all worth it. I'm really regretting after buying it, and it's way to slow to process. I can't even return it since they don't have the option of returning but just exchange and I have exchanged it but still the worst product.\", 'Bad camera quality andMobile battery capacity', \"While all the specs says it's good, the operating system is the worst. I hope they release big fixes and upgrade to it.\", 'Very bad performance. Touch is not working properly from the very first day. Applications are not responding properly.If it is possible i would like to return this handset', \"Don't buy front camera totaly backwash wate of money\", \"Simply worst product!Volume is very low during calls!Only few months back I purchased this one!Don't buy!\", 'Awesome mobile at this price point', 'I simply liked it when i unboxed it and saw it at first glance. Its 16.15 cms display is quite impressive. Most of the time i watch movies while travelling to and from office . Hence I can have a better screen view now. The camera is also excellent.Overall a nice phone within a nominal budget. I’ll give it a 5 stars for now.', 'I was looking for a budget smart phone which can perform the entire task for me. I was using MI note 6 and looking for something fresh bcz I was bored with it’s UI. I explored the content available over internet and waited for it to buy after getting the right fitment against my requirement. I am so excited to share my personal experience after my early purchase of this device. I love taking pictures of mine and surrounding too. So great camera quality is one of my main priority, after using it now I must say that it has the best camera available in this budget.It’s plastic made but mirror finish back panel is the coolest thing in my blue colour device. I also appreciate the makers for understanding our further need and offering the tempered glass and transparent back cover for device protection. Once you will keep the device handy it will give you a feel of it. With the brand tag line of Vivo “Camera & Music” it really impressed me.I’ll surely recommend my fellow buyers to buy this cool device. But there is also something which can be improved so writing it in bullet points for your ease..Pros:-● It’s really a 100% value for money device.● Run on latest version of Android “9”.● In Box soft back cover and tempered glass.● Dedicated kid mode for safety against unwanted operational activity of kids● Finger print sensor in back of the device is at perfectly placed in the reach of fingers and open the device faster.● 5000Ah battery, allows to watch many hours online video● HD+ screen Resolution and balanced colour contrast makes the viewing experience really pleasure and never hurt eyes● Triple camera with AI and image editing options are among the best features for me● Fast charging support with 18 watt inbox adaptor● Snapdragon 665 processor is really a power pack performer even in multitaskingCons:-● Lags in PubG (However in a device with 4 GB it’s expected as the game itself take 2 GB space)● No headphones included● Front Camera struggles in low light.At the price of 10990 its a great phone for better multitasking. Vivo has finally started improving specs and is doing good with their phones in the segment.I hope my review helped you in making your right decision!', 'Nice looking and very nice phone Battery is good and ... camera is good', 'Good phoneBut camera is ok', 'Nice phone under 9000', \"It's an overall package. Built quality is very good\", 'I bought this phone on a flash sale and to my wonder it is a better phone than I was expecting. It has a big display screen.I am impressed by its long battery back up. It keeps me worryfree at work and travel. Also, this battery charges very fast.The camera and photo quality of this fone is also very good.Am quite happy with this purchase.', \"Average phone at this price range.. delivery is very quick by Amazon..Only need clarification on 2 things..1. Box shows Vivo U10 but sticker & phone shows Vivo model 1916. Nowhere in the phone you find Vivo U102.  Phone Audio is comparatively low3. Camera is Ok at this price range.. don't compare with high end phones.\", \"Surely you won't regret for buying this mobile. And you also get a free screen damage protection plan covered for one year. It is automatically activated once the order is placed.Only one thing is missing, the type-C port. Not a big deal for most of the buyers though.\", \"Phone is nice but little bit expensive. One thing dissappointed me that it don't have slow motion option in videos\", 'Security feature is fast and friendly,Nice Screen, camera quality is very nice and sturdy phone', 'Writing this review after 3 days of usage.Pros:1. Excellent battery life. 5000mAh is good enough to last for 1 and half days on single charge.2. Display is excellent as always with Samsung.3. Not much bloatware. You can uninstall most of the preinstalled apps.4. Samsung phone security is added adv.5. Good camera6. After installing all the basic apps the ram usage is 3GB out of 6 GB.Cons:1. Speaker volume is not loud enough. But silent environment it is good.2. Sometimes lags with many apps open. This is very infrequent though and may not observe during normal usage.So, for a mid range expectation this phone satisfies them 10/10.Thanks,', 'ProsMade in IndiaNo bloatwareOne UI 2.1Power full batteryNice cameraCamera 2 api enabled.Widevine L1Great soundNice performanceConsOver priced 1k', \"Very nice phone with awesome display quality.Got it at 18,499. I'm in love with that phone.\", 'First of all I bought this phone three days ago.After buying this phone I saw a lot of reviews on YouTube about the processor and the display . But to me these both are really good in the phone.The camera is awesome especially the ultra wide .Battery is fabulous.Punch hole camera gives an amazing look.Voice is good.And last but not least design 🤗🤗.', 'Good phone at this price', 'Excellent view,good camera quality,value for money .', 'Samsung is the best phone velue for money', 'Plastic bodyAnd low processorI give you 4 star for its design  and i am not comfortable with this product which has low processor , low resolution of display and back plastic body', 'Best sound quality, best gaming  , probably one of the best Iphones👍🏻', 'This review is being posted after a month of usage. Iphone 8+ has :Really fast processorGreat cameraUseful landscape mode which is not in the smaller version of iphones.The glass back lends a magnificent look to the device. It is a pure joy as a gaming device too. Big screen + space on the sides makes it ideal for gaming.', 'It’s a very good phone. The screen quality is very defining. While i was using the IOS 12, the battery was drained very quickly. After the update to IOS 13.5, the battery life is optimised very well. The consumption of battery charge is down to 1:3 compare to IOS 12. The camera quality is very good esp the portrait mode. If you are using this phone, please update to IOS 13.5. After that this is a beast.', 'Bought the space grey 64gb version for Rs. 42,000Pros:Camera is pretty decent till date. Using a third party software for night mode gets the job done.Performance is blazing fast even in 2020 (obviously it’s iOS).Stereo speakers work pretty fine.Should be getting iOS updates for the next 3-4 years for its given hardware specifications.Touch ID: With corona situation, no use of Face ID. Additionally Touch ID is faster than Face ID in various cases.Cons:Charging speed isn’t great so get a 15w fast charger externally.Single handed usage: NOWith its fragile glass back, impossible to have the device naked.If you’re looking for a device which isn’t having the design language of 2020, but features which are practical such as wireless charging, ip67 waterproof rating, better battery life, good gaming performance and a decent camera without emptying your wallet, this is the best you can get.A best alternative for iPhone SE 2020, if you wouldn’t mind the massive size of iPhone 8 Plus.Finally, my personal advice: Do not spend extra 25-30K on a device just to say its name. This gets the job done. These phones are very close to their tech.', \"What's better than iphone 😏😏😏\", \"There has been a craze among people to attain at least an Iphone, irrespective of the product being latest or a bit old edition, during lifetime. As far as I am concerned,it has been a sheer dream to lay my hands on this incredible product, feel the difference in texture and bask in the glorious legacy of technological supremacy. No feeling is as precious as the one which brings in contentment.The model Iphone 8 plus was released in 2017 and the manufacturing date of the product purchased is August 2018. The battery was completely drained out and I had to put it on charging. Generally, what happens is a new device never goes out of its charge at the time of opening the package and I have found that recently while opening the Ipad with the battery being 85%  charge left. From this end, it was a mild shock at the beginning that eventually ebbed away with the finding of getting it charged later. It took more than three hours to get it 100% charged. Then, it has been a sheer pleasure that fills you with. Incredibly different and being different from others is a boon . The review section has been flooded with technicalities -- divided with pros and cons, but to me the moment the device is felt in my hand, I will treasure that moment and it will be secretly kept in my heart forever. The last but not the least, Amazon should be appreciated for such a speedy delivery -- less than 24 hours had been taken to deliver the shipment. In the field of authenticity, the seller- Appario Pvt Ltd, has been incredibly trustworthy as both my Ipad and now Iphone were purchased through this entity. Authenticity is a major issue in the era of counterfeiting and the seller should be admired profusely in this segment as a customer deserves nothing but an authentic product and discounts won't help much if a certain product is found to be fake. Time will prove if my first ever Iphone laced with dream and expectation passes the test of endurance with flying colours.\", 'This is my first iPhone and I am more than happy with iPhone 8Plus 64GB mobile phone. It took me over two months to get used to it without the feeling of missing my Google Pixel XL mobile phone. Continuing to use the iPhone for 6+ months now and I am not missing Google Pixel XL anymore. Reasons are premium built quality, good performance and the Apple brand name!', 'Camera is awesome, great battery life, bright colourful screen and fastest touch Id. The only issue I faced so far is size. It sometimes feels too big as I have always used smaller phones til this one came.', 'Received Iphone 8 Plus in 2 days but received European adapter', 'Amazing as amazing as an iPhoneSurprisingly, I got it for 39k ! Couldn’t believe that I am getting a 256 GB 8 plus version at this price!Thanks Flipkart', \"After using for 4 days, here is my experience- Touch screen response is not good. You might be scrolling the screen, but screen won't respond- Apps like google pay(may be secure apps) etc, screen gets either complete black or white, quite often. Had to press recent apps and close g pay to get to normal state- 20x zoom is useless. You will see complete noise and big pixels- camera stability is not good- indoor photography is worst.- Flash is not syncing properly with camera sutter and the photos taken with flash are disaster(in attached pics, 1st one is without flash and 2nd is with flash)- Sensor that turns off display while talking is not good. You need to keep Mobile very close to ear- when phone was in pocket, front camera got open automatically and screen went to complete black and screen was not responsive. Had to press power button to get it to normal state- Sound volume and quality is pathetic. I couldn't hear when i was in a little crowded area. I had redmi note 5 pro and it is much much better high volume and sound quality- Call reception is poor. Despite having full signals, other person voice becomes feable and could not hear other person- some apps like outlook is crashing frequently. Not sure, whether its app problem or phone problem- with bulky case given with in the box, its look and feel is think and heavy- Some times videos are going in landscape mode automatically and not coming to portrait mode even when you turn the phone. No controls work until video is completely played.- It came with lot of unnecessary apps- One drawback of notchless design is, since front camera is hidden, it wont/cant detect your face unless you wake it up for face unlock. So, additional touch/click is required to use face unlock. Of course, this might be the case with other notchless designs- pre installed screen protector is waste. It attracts lot of dust- I went with exchange. I had a doubt that, i might have to give old(currently using one) at the time of new phone receiving. Contacted Amazon customer care, but they could not provide any info. They said, pick up will be scheduled. How ever it was not scheduled until the product was dispatched. I thought, it will be picked up after a day or two to give time to transfer data. But, unfortunately courier person told he will give new phone only when i submit old phone. Hence, had to reset and gave it to get the new phone thus loosing all the data. Amazon did a poor job here- overall, its not value for money. For 37k, better to go for one plus 7, which is industry leader\", \"This phone is exceptionally good but the 20x zoom as per advertised is below standard and seems like a fake strategy to create the hype.Reno 2 marketing strategy is misleading. Reno 10x has a better zoom because , Reno 2 has only 5x hybrid zoom and 20 x digital zoom, where as Reno 10x has 10x hybrid zoom and 60x digital zoom.I've reNo 2 and my cousin has Reno 10 x and this is what I saw when we compared . So don't go for the fake marketing hype that oppo createdPlease check before you buy this phone\", 'West of money', 'This is very disappointing matter from reno 220x zoom is not clear as it is given in promo video.. 5x zoom is clear in this phone.. And also battery performance is not good', \"Google Lens doesn't work in Google Photo even after factory reset. It happens in every Reno2 handset. This problem is specialy in this particular model. Camera is very average in this price. In day light, one cannot see any movie or pic even after full brightness mode. Display is very average. Not value for money. Highly over priced phone. I'm very much disappointed buying this Chinese stuff.\", 'This phone is just fooling ppl.. its not worth the money.1.Camera quality is average.2.  There is no front camera zoom in nd zoommout which you ll find even in a 10k phone.3.Finger print nt good as it takes time to open. Initially there was no retina scan. Anybody could show the phone on the  face and the phone would get unlocked.4.Amitabh bachan advertises about selfie dark mode but its not there in the front camera. Its available only in the back camera.5.Phone is quite slow as little data gets in, though its 256 Gb.6. they say that rear panel is made of gorilla glass 5 , which when dropped from shoulder height will not get damaged or get any scratches. But my phone dropped from a very low height abt 50 cms and the edges were danaged.My advice is not to buy this phone at this cost.', 'I bought this phone last November 2019. Today the phone fell from my hand from less than a feet and the internal phone screen broke and now I am being asked to pay 10200 rupees to get a new screen. I have used several phones but never saw any phone shatter it’s internal screen by just falling of your hand from less than a feet.The quality of the phone is absolutely bad. Oppo really dupes on this model. I have been fan of Oppo and used almost all of their launched phones. But this time it was a rip off. Don’t buy it, you’ll regret greatly.', 'mobile is very nice.. camera battery etc. are good.. but 20x zoom is a fake technology.. improbably 5x zoom is clear see a  photo... but 20x zoom not clear in this phone... this is very disappointing matter from reno 220x zoom is not clear as it is given in promo video.. 5x zoom is clear in this phone..', 'Not satisfied with the product. Have been using this phone for nearly 6 months n the phone has started lagging even after having 8GB of ram. Nealry every application is lagging no every next moment. WASTE of MONEY', 'Be Aware before buyFeatures are not there as what are written in the specification.Not happy at all..']\n"
          ],
          "name": "stdout"
        }
      ]
    },
    {
      "cell_type": "code",
      "metadata": {
        "id": "UDX0bwb2x6Ld",
        "colab_type": "code",
        "colab": {
          "base_uri": "https://localhost:8080/",
          "height": 54
        },
        "outputId": "ad944f71-d6d5-452c-a28b-17d320d2843e"
      },
      "source": [
        "print(phones)"
      ],
      "execution_count": 6,
      "outputs": [
        {
          "output_type": "stream",
          "text": [
            "[' Samsung Galaxy A71 (Prism Crush Blue, 8GB RAM, 128GB Storage) with No Cost EMI/Additional Exchange Offers', ' Samsung Galaxy A71 (Prism Crush Blue, 8GB RAM, 128GB Storage) with No Cost EMI/Additional Exchange Offers', ' Samsung Galaxy A71 (Prism Crush Blue, 8GB RAM, 128GB Storage) with No Cost EMI/Additional Exchange Offers', ' Samsung Galaxy A71 (Prism Crush Blue, 8GB RAM, 128GB Storage) with No Cost EMI/Additional Exchange Offers', ' Samsung Galaxy A71 (Prism Crush Blue, 8GB RAM, 128GB Storage) with No Cost EMI/Additional Exchange Offers', ' Samsung Galaxy A71 (Prism Crush Blue, 8GB RAM, 128GB Storage) with No Cost EMI/Additional Exchange Offers', ' Samsung Galaxy A71 (Prism Crush Blue, 8GB RAM, 128GB Storage) with No Cost EMI/Additional Exchange Offers', ' Samsung Galaxy A71 (Prism Crush Blue, 8GB RAM, 128GB Storage) with No Cost EMI/Additional Exchange Offers', ' Samsung Galaxy A71 (Prism Crush Blue, 8GB RAM, 128GB Storage) with No Cost EMI/Additional Exchange Offers', ' Samsung Galaxy A71 (Prism Crush Blue, 8GB RAM, 128GB Storage) with No Cost EMI/Additional Exchange Offers', ' Vivo Y12 (Aqua Blue, 3GB RAM, 64GB Storage) with No Cost EMI/Additional Exchange Offers', ' Vivo Y12 (Aqua Blue, 3GB RAM, 64GB Storage) with No Cost EMI/Additional Exchange Offers', ' Vivo Y12 (Aqua Blue, 3GB RAM, 64GB Storage) with No Cost EMI/Additional Exchange Offers', ' Vivo Y12 (Aqua Blue, 3GB RAM, 64GB Storage) with No Cost EMI/Additional Exchange Offers', ' Vivo Y12 (Aqua Blue, 3GB RAM, 64GB Storage) with No Cost EMI/Additional Exchange Offers', ' Vivo Y12 (Aqua Blue, 3GB RAM, 64GB Storage) with No Cost EMI/Additional Exchange Offers', ' Vivo Y12 (Aqua Blue, 3GB RAM, 64GB Storage) with No Cost EMI/Additional Exchange Offers', ' Vivo Y12 (Aqua Blue, 3GB RAM, 64GB Storage) with No Cost EMI/Additional Exchange Offers', ' Vivo Y12 (Aqua Blue, 3GB RAM, 64GB Storage) with No Cost EMI/Additional Exchange Offers', ' Vivo Y12 (Aqua Blue, 3GB RAM, 64GB Storage) with No Cost EMI/Additional Exchange Offers', ' Vivo Y91i (Fusion Black, 2GB RAM, 32GB Storage) with No Cost EMI/Additional Exchange Offers', ' Vivo Y91i (Fusion Black, 2GB RAM, 32GB Storage) with No Cost EMI/Additional Exchange Offers', ' Vivo Y91i (Fusion Black, 2GB RAM, 32GB Storage) with No Cost EMI/Additional Exchange Offers', ' Vivo Y91i (Fusion Black, 2GB RAM, 32GB Storage) with No Cost EMI/Additional Exchange Offers', ' Vivo Y91i (Fusion Black, 2GB RAM, 32GB Storage) with No Cost EMI/Additional Exchange Offers', ' Vivo Y91i (Fusion Black, 2GB RAM, 32GB Storage) with No Cost EMI/Additional Exchange Offers', ' Vivo Y91i (Fusion Black, 2GB RAM, 32GB Storage) with No Cost EMI/Additional Exchange Offers', ' Vivo Y91i (Fusion Black, 2GB RAM, 32GB Storage) with No Cost EMI/Additional Exchange Offers', ' Vivo Y91i (Fusion Black, 2GB RAM, 32GB Storage) with No Cost EMI/Additional Exchange Offers', ' Vivo Y91i (Fusion Black, 2GB RAM, 32GB Storage) with No Cost EMI/Additional Exchange Offers', ' Samsung Galaxy Note10 Lite (Aura Glow, 8GB RAM, 128GB Storage) with No Cost EMI/Additional Exchange Offers', ' Samsung Galaxy Note10 Lite (Aura Glow, 8GB RAM, 128GB Storage) with No Cost EMI/Additional Exchange Offers', ' Samsung Galaxy Note10 Lite (Aura Glow, 8GB RAM, 128GB Storage) with No Cost EMI/Additional Exchange Offers', ' Samsung Galaxy Note10 Lite (Aura Glow, 8GB RAM, 128GB Storage) with No Cost EMI/Additional Exchange Offers', ' Samsung Galaxy Note10 Lite (Aura Glow, 8GB RAM, 128GB Storage) with No Cost EMI/Additional Exchange Offers', ' Samsung Galaxy Note10 Lite (Aura Glow, 8GB RAM, 128GB Storage) with No Cost EMI/Additional Exchange Offers', ' Samsung Galaxy Note10 Lite (Aura Glow, 8GB RAM, 128GB Storage) with No Cost EMI/Additional Exchange Offers', ' Samsung Galaxy Note10 Lite (Aura Glow, 8GB RAM, 128GB Storage) with No Cost EMI/Additional Exchange Offers', ' Samsung Galaxy Note10 Lite (Aura Glow, 8GB RAM, 128GB Storage) with No Cost EMI/Additional Exchange Offers', ' Samsung Galaxy Note10 Lite (Aura Glow, 8GB RAM, 128GB Storage) with No Cost EMI/Additional Exchange Offers', ' Apple iPhone 7 (32GB) - Gold', ' Apple iPhone 7 (32GB) - Gold', ' Apple iPhone 7 (32GB) - Gold', ' Apple iPhone 7 (32GB) - Gold', ' Apple iPhone 7 (32GB) - Gold', ' Apple iPhone 7 (32GB) - Gold', ' Apple iPhone 7 (32GB) - Gold', ' Apple iPhone 7 (32GB) - Gold', ' Apple iPhone 7 (32GB) - Gold', ' Apple iPhone 7 (32GB) - Gold', ' OPPO A11K (Flowing Silver, 2GB RAM, 32GB Storage) with No Cost EMI/Additional Exchange Offers', ' OPPO A11K (Flowing Silver, 2GB RAM, 32GB Storage) with No Cost EMI/Additional Exchange Offers', ' OPPO A11K (Flowing Silver, 2GB RAM, 32GB Storage) with No Cost EMI/Additional Exchange Offers', ' OPPO A11K (Flowing Silver, 2GB RAM, 32GB Storage) with No Cost EMI/Additional Exchange Offers', ' OPPO A11K (Flowing Silver, 2GB RAM, 32GB Storage) with No Cost EMI/Additional Exchange Offers', ' OPPO A11K (Flowing Silver, 2GB RAM, 32GB Storage) with No Cost EMI/Additional Exchange Offers', ' OPPO A11K (Flowing Silver, 2GB RAM, 32GB Storage) with No Cost EMI/Additional Exchange Offers', ' OPPO A11K (Flowing Silver, 2GB RAM, 32GB Storage) with No Cost EMI/Additional Exchange Offers', ' OPPO A11K (Flowing Silver, 2GB RAM, 32GB Storage) with No Cost EMI/Additional Exchange Offers', ' OPPO A11K (Flowing Silver, 2GB RAM, 32GB Storage) with No Cost EMI/Additional Exchange Offers', ' Vivo U10 (Electric Blue, 5000 mAH 18W Fast Charge Battery, 3GB RAM, 32GB Storage)', ' Vivo U10 (Electric Blue, 5000 mAH 18W Fast Charge Battery, 3GB RAM, 32GB Storage)', ' Vivo U10 (Electric Blue, 5000 mAH 18W Fast Charge Battery, 3GB RAM, 32GB Storage)', ' Vivo U10 (Electric Blue, 5000 mAH 18W Fast Charge Battery, 3GB RAM, 32GB Storage)', ' Vivo U10 (Electric Blue, 5000 mAH 18W Fast Charge Battery, 3GB RAM, 32GB Storage)', ' Vivo U10 (Electric Blue, 5000 mAH 18W Fast Charge Battery, 3GB RAM, 32GB Storage)', ' Vivo U10 (Electric Blue, 5000 mAH 18W Fast Charge Battery, 3GB RAM, 32GB Storage)', ' Vivo U10 (Electric Blue, 5000 mAH 18W Fast Charge Battery, 3GB RAM, 32GB Storage)', ' Vivo U10 (Electric Blue, 5000 mAH 18W Fast Charge Battery, 3GB RAM, 32GB Storage)', ' Vivo U10 (Electric Blue, 5000 mAH 18W Fast Charge Battery, 3GB RAM, 32GB Storage)', ' Samsung Galaxy A21s (Blue, 6GB RAM, 64GB Storage) with No Cost EMI/Additional Exchange Offers', ' Samsung Galaxy A21s (Blue, 6GB RAM, 64GB Storage) with No Cost EMI/Additional Exchange Offers', ' Samsung Galaxy A21s (Blue, 6GB RAM, 64GB Storage) with No Cost EMI/Additional Exchange Offers', ' Samsung Galaxy A21s (Blue, 6GB RAM, 64GB Storage) with No Cost EMI/Additional Exchange Offers', ' Samsung Galaxy A21s (Blue, 6GB RAM, 64GB Storage) with No Cost EMI/Additional Exchange Offers', ' Samsung Galaxy A21s (Blue, 6GB RAM, 64GB Storage) with No Cost EMI/Additional Exchange Offers', ' Samsung Galaxy A21s (Blue, 6GB RAM, 64GB Storage) with No Cost EMI/Additional Exchange Offers', ' Samsung Galaxy A21s (Blue, 6GB RAM, 64GB Storage) with No Cost EMI/Additional Exchange Offers', ' Samsung Galaxy A21s (Blue, 6GB RAM, 64GB Storage) with No Cost EMI/Additional Exchange Offers', ' Samsung Galaxy A21s (Blue, 6GB RAM, 64GB Storage) with No Cost EMI/Additional Exchange Offers', ' Apple iPhone 8 Plus (64GB) - Gold', ' Apple iPhone 8 Plus (64GB) - Gold', ' Apple iPhone 8 Plus (64GB) - Gold', ' Apple iPhone 8 Plus (64GB) - Gold', ' Apple iPhone 8 Plus (64GB) - Gold', ' Apple iPhone 8 Plus (64GB) - Gold', ' Apple iPhone 8 Plus (64GB) - Gold', ' Apple iPhone 8 Plus (64GB) - Gold', ' Apple iPhone 8 Plus (64GB) - Gold', ' Apple iPhone 8 Plus (64GB) - Gold', ' OPPO Reno2 (Ocean Blue, 8GB RAM, 256GB Storage) with No Cost EMI/Additional Exchange Offers', ' OPPO Reno2 (Ocean Blue, 8GB RAM, 256GB Storage) with No Cost EMI/Additional Exchange Offers', ' OPPO Reno2 (Ocean Blue, 8GB RAM, 256GB Storage) with No Cost EMI/Additional Exchange Offers', ' OPPO Reno2 (Ocean Blue, 8GB RAM, 256GB Storage) with No Cost EMI/Additional Exchange Offers', ' OPPO Reno2 (Ocean Blue, 8GB RAM, 256GB Storage) with No Cost EMI/Additional Exchange Offers', ' OPPO Reno2 (Ocean Blue, 8GB RAM, 256GB Storage) with No Cost EMI/Additional Exchange Offers', ' OPPO Reno2 (Ocean Blue, 8GB RAM, 256GB Storage) with No Cost EMI/Additional Exchange Offers', ' OPPO Reno2 (Ocean Blue, 8GB RAM, 256GB Storage) with No Cost EMI/Additional Exchange Offers', ' OPPO Reno2 (Ocean Blue, 8GB RAM, 256GB Storage) with No Cost EMI/Additional Exchange Offers', ' OPPO Reno2 (Ocean Blue, 8GB RAM, 256GB Storage) with No Cost EMI/Additional Exchange Offers']\n"
          ],
          "name": "stdout"
        }
      ]
    },
    {
      "cell_type": "markdown",
      "metadata": {
        "id": "1AIHnPRR6wdo",
        "colab_type": "text"
      },
      "source": [
        "Total number of reviews"
      ]
    },
    {
      "cell_type": "code",
      "metadata": {
        "id": "yHeVEFrHZKMb",
        "colab_type": "code",
        "colab": {
          "base_uri": "https://localhost:8080/",
          "height": 34
        },
        "outputId": "86ebb308-f08b-4216-b2a2-1c62598804d1"
      },
      "source": [
        "len(reviews)"
      ],
      "execution_count": 7,
      "outputs": [
        {
          "output_type": "execute_result",
          "data": {
            "text/plain": [
              "100"
            ]
          },
          "metadata": {
            "tags": []
          },
          "execution_count": 7
        }
      ]
    },
    {
      "cell_type": "markdown",
      "metadata": {
        "id": "IvzxLrSk7AWO",
        "colab_type": "text"
      },
      "source": [
        "Creating the test data frame"
      ]
    },
    {
      "cell_type": "code",
      "metadata": {
        "id": "V0JPCdfCbIxr",
        "colab_type": "code",
        "colab": {}
      },
      "source": [
        "rows = pd.DataFrame()\n",
        "rows['Phones'] = phones\n",
        "rows['Reviews'] = reviews"
      ],
      "execution_count": 8,
      "outputs": []
    },
    {
      "cell_type": "code",
      "metadata": {
        "id": "gz3qlusYbnF1",
        "colab_type": "code",
        "colab": {
          "base_uri": "https://localhost:8080/",
          "height": 204
        },
        "outputId": "6167c52e-8f7a-4991-9228-73834bb84664"
      },
      "source": [
        "rows.head()"
      ],
      "execution_count": 11,
      "outputs": [
        {
          "output_type": "execute_result",
          "data": {
            "text/html": [
              "<div>\n",
              "<style scoped>\n",
              "    .dataframe tbody tr th:only-of-type {\n",
              "        vertical-align: middle;\n",
              "    }\n",
              "\n",
              "    .dataframe tbody tr th {\n",
              "        vertical-align: top;\n",
              "    }\n",
              "\n",
              "    .dataframe thead th {\n",
              "        text-align: right;\n",
              "    }\n",
              "</style>\n",
              "<table border=\"1\" class=\"dataframe\">\n",
              "  <thead>\n",
              "    <tr style=\"text-align: right;\">\n",
              "      <th></th>\n",
              "      <th>Phones</th>\n",
              "      <th>Reviews</th>\n",
              "    </tr>\n",
              "  </thead>\n",
              "  <tbody>\n",
              "    <tr>\n",
              "      <th>0</th>\n",
              "      <td>Samsung Galaxy A71 (Prism Crush Blue, 8GB RAM...</td>\n",
              "      <td>Initial impressions -It's not bad but it's als...</td>\n",
              "    </tr>\n",
              "    <tr>\n",
              "      <th>1</th>\n",
              "      <td>Samsung Galaxy A71 (Prism Crush Blue, 8GB RAM...</td>\n",
              "      <td>It is a wonderful phone. The experience has be...</td>\n",
              "    </tr>\n",
              "    <tr>\n",
              "      <th>2</th>\n",
              "      <td>Samsung Galaxy A71 (Prism Crush Blue, 8GB RAM...</td>\n",
              "      <td>It's an awesome phone. Cameras are wonderful. ...</td>\n",
              "    </tr>\n",
              "    <tr>\n",
              "      <th>3</th>\n",
              "      <td>Samsung Galaxy A71 (Prism Crush Blue, 8GB RAM...</td>\n",
              "      <td>I am writing this review after a week of usage...</td>\n",
              "    </tr>\n",
              "    <tr>\n",
              "      <th>4</th>\n",
              "      <td>Samsung Galaxy A71 (Prism Crush Blue, 8GB RAM...</td>\n",
              "      <td>It delivers everything it promises. Beautiful ...</td>\n",
              "    </tr>\n",
              "  </tbody>\n",
              "</table>\n",
              "</div>"
            ],
            "text/plain": [
              "                                              Phones                                            Reviews\n",
              "0   Samsung Galaxy A71 (Prism Crush Blue, 8GB RAM...  Initial impressions -It's not bad but it's als...\n",
              "1   Samsung Galaxy A71 (Prism Crush Blue, 8GB RAM...  It is a wonderful phone. The experience has be...\n",
              "2   Samsung Galaxy A71 (Prism Crush Blue, 8GB RAM...  It's an awesome phone. Cameras are wonderful. ...\n",
              "3   Samsung Galaxy A71 (Prism Crush Blue, 8GB RAM...  I am writing this review after a week of usage...\n",
              "4   Samsung Galaxy A71 (Prism Crush Blue, 8GB RAM...  It delivers everything it promises. Beautiful ..."
            ]
          },
          "metadata": {
            "tags": []
          },
          "execution_count": 11
        }
      ]
    },
    {
      "cell_type": "markdown",
      "metadata": {
        "id": "xbtPRNiv7Fer",
        "colab_type": "text"
      },
      "source": [
        "Saving the dataframe as a csv file"
      ]
    },
    {
      "cell_type": "code",
      "metadata": {
        "id": "fEdkobZSbNa2",
        "colab_type": "code",
        "colab": {}
      },
      "source": [
        "rows.to_csv(\"test.csv\", index=False)"
      ],
      "execution_count": 12,
      "outputs": []
    },
    {
      "cell_type": "code",
      "metadata": {
        "id": "XXJfIt93V8pl",
        "colab_type": "code",
        "colab": {
          "base_uri": "https://localhost:8080/",
          "height": 204
        },
        "outputId": "c1c36e91-2687-4712-9e84-5ac59cbd357c"
      },
      "source": [
        "rows['Phones'].value_counts()"
      ],
      "execution_count": 9,
      "outputs": [
        {
          "output_type": "execute_result",
          "data": {
            "text/plain": [
              " Vivo U10 (Electric Blue, 5000 mAH 18W Fast Charge Battery, 3GB RAM, 32GB Storage)                             10\n",
              " Samsung Galaxy Note10 Lite (Aura Glow, 8GB RAM, 128GB Storage) with No Cost EMI/Additional Exchange Offers    10\n",
              " Apple iPhone 7 (32GB) - Gold                                                                                  10\n",
              " Samsung Galaxy A71 (Prism Crush Blue, 8GB RAM, 128GB Storage) with No Cost EMI/Additional Exchange Offers     10\n",
              " Vivo Y12 (Aqua Blue, 3GB RAM, 64GB Storage) with No Cost EMI/Additional Exchange Offers                       10\n",
              " Apple iPhone 8 Plus (64GB) - Gold                                                                             10\n",
              " OPPO A11K (Flowing Silver, 2GB RAM, 32GB Storage) with No Cost EMI/Additional Exchange Offers                 10\n",
              " Vivo Y91i (Fusion Black, 2GB RAM, 32GB Storage) with No Cost EMI/Additional Exchange Offers                   10\n",
              " Samsung Galaxy A21s (Blue, 6GB RAM, 64GB Storage) with No Cost EMI/Additional Exchange Offers                 10\n",
              " OPPO Reno2 (Ocean Blue, 8GB RAM, 256GB Storage) with No Cost EMI/Additional Exchange Offers                   10\n",
              "Name: Phones, dtype: int64"
            ]
          },
          "metadata": {
            "tags": []
          },
          "execution_count": 9
        }
      ]
    }
  ]
}