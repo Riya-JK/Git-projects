{
  "nbformat": 4,
  "nbformat_minor": 0,
  "metadata": {
    "colab": {
      "name": "Predict_Future_Sales.ipynb",
      "provenance": []
    },
    "kernelspec": {
      "name": "python3",
      "display_name": "Python 3"
    }
  },
  "cells": [
    {
      "cell_type": "markdown",
      "metadata": {
        "id": "Af7hXPdkOSd7",
        "colab_type": "text"
      },
      "source": [
        "In this project I worked with a challenging time-series dataset consisting of daily sales data provided by one of the largest Russian software firms - 1C Company. \n",
        "\n",
        "Goal : To predict total sales for every product and store in the next month."
      ]
    },
    {
      "cell_type": "code",
      "metadata": {
        "id": "BcDns4UC_cKj",
        "colab_type": "code",
        "colab": {}
      },
      "source": [
        "import numpy as np\n",
        "import pandas as pd\n",
        "import matplotlib.pyplot as plt\n",
        "import seaborn as sns"
      ],
      "execution_count": null,
      "outputs": []
    },
    {
      "cell_type": "code",
      "metadata": {
        "id": "aLKDOvi9Au4y",
        "colab_type": "code",
        "colab": {
          "base_uri": "https://localhost:8080/",
          "height": 204
        },
        "outputId": "ac3a516f-2e54-4f7c-b1f0-c36ceee5c517"
      },
      "source": [
        "dataset = pd.read_csv(\"/content/drive/My Drive/sales_train.csv\")\n",
        "dataset.head()"
      ],
      "execution_count": null,
      "outputs": [
        {
          "output_type": "execute_result",
          "data": {
            "text/html": [
              "<div>\n",
              "<style scoped>\n",
              "    .dataframe tbody tr th:only-of-type {\n",
              "        vertical-align: middle;\n",
              "    }\n",
              "\n",
              "    .dataframe tbody tr th {\n",
              "        vertical-align: top;\n",
              "    }\n",
              "\n",
              "    .dataframe thead th {\n",
              "        text-align: right;\n",
              "    }\n",
              "</style>\n",
              "<table border=\"1\" class=\"dataframe\">\n",
              "  <thead>\n",
              "    <tr style=\"text-align: right;\">\n",
              "      <th></th>\n",
              "      <th>date</th>\n",
              "      <th>date_block_num</th>\n",
              "      <th>shop_id</th>\n",
              "      <th>item_id</th>\n",
              "      <th>item_price</th>\n",
              "      <th>item_cnt_day</th>\n",
              "    </tr>\n",
              "  </thead>\n",
              "  <tbody>\n",
              "    <tr>\n",
              "      <th>0</th>\n",
              "      <td>02.01.2013</td>\n",
              "      <td>0</td>\n",
              "      <td>59</td>\n",
              "      <td>22154</td>\n",
              "      <td>999.00</td>\n",
              "      <td>1.0</td>\n",
              "    </tr>\n",
              "    <tr>\n",
              "      <th>1</th>\n",
              "      <td>03.01.2013</td>\n",
              "      <td>0</td>\n",
              "      <td>25</td>\n",
              "      <td>2552</td>\n",
              "      <td>899.00</td>\n",
              "      <td>1.0</td>\n",
              "    </tr>\n",
              "    <tr>\n",
              "      <th>2</th>\n",
              "      <td>05.01.2013</td>\n",
              "      <td>0</td>\n",
              "      <td>25</td>\n",
              "      <td>2552</td>\n",
              "      <td>899.00</td>\n",
              "      <td>-1.0</td>\n",
              "    </tr>\n",
              "    <tr>\n",
              "      <th>3</th>\n",
              "      <td>06.01.2013</td>\n",
              "      <td>0</td>\n",
              "      <td>25</td>\n",
              "      <td>2554</td>\n",
              "      <td>1709.05</td>\n",
              "      <td>1.0</td>\n",
              "    </tr>\n",
              "    <tr>\n",
              "      <th>4</th>\n",
              "      <td>15.01.2013</td>\n",
              "      <td>0</td>\n",
              "      <td>25</td>\n",
              "      <td>2555</td>\n",
              "      <td>1099.00</td>\n",
              "      <td>1.0</td>\n",
              "    </tr>\n",
              "  </tbody>\n",
              "</table>\n",
              "</div>"
            ],
            "text/plain": [
              "         date  date_block_num  shop_id  item_id  item_price  item_cnt_day\n",
              "0  02.01.2013               0       59    22154      999.00           1.0\n",
              "1  03.01.2013               0       25     2552      899.00           1.0\n",
              "2  05.01.2013               0       25     2552      899.00          -1.0\n",
              "3  06.01.2013               0       25     2554     1709.05           1.0\n",
              "4  15.01.2013               0       25     2555     1099.00           1.0"
            ]
          },
          "metadata": {
            "tags": []
          },
          "execution_count": 23
        }
      ]
    },
    {
      "cell_type": "code",
      "metadata": {
        "id": "HNp15PFrlrSC",
        "colab_type": "code",
        "colab": {}
      },
      "source": [
        "shops = pd.read_csv('shops.csv')\n",
        "items = pd.read_csv('items.csv')\n",
        "item_categories = pd.read_csv('item_categories.csv')"
      ],
      "execution_count": null,
      "outputs": []
    },
    {
      "cell_type": "code",
      "metadata": {
        "id": "vJItNAwyayMh",
        "colab_type": "code",
        "colab": {
          "base_uri": "https://localhost:8080/",
          "height": 119
        },
        "outputId": "4b20d8f4-53da-4a36-901d-a4199d0ab40d"
      },
      "source": [
        "test = pd.read_csv('test.csv')\n",
        "print(test.head())"
      ],
      "execution_count": null,
      "outputs": [
        {
          "output_type": "stream",
          "text": [
            "   ID  shop_id  item_id\n",
            "0   0        5     5037\n",
            "1   1        5     5320\n",
            "2   2        5     5233\n",
            "3   3        5     5232\n",
            "4   4        5     5268\n"
          ],
          "name": "stdout"
        }
      ]
    },
    {
      "cell_type": "code",
      "metadata": {
        "id": "xDLVUjbBcj_I",
        "colab_type": "code",
        "colab": {
          "base_uri": "https://localhost:8080/",
          "height": 282
        },
        "outputId": "57e3724c-da38-4cef-aa64-898ee9231a66"
      },
      "source": [
        "dfm = dataset.groupby(['date_block_num'], as_index=False )['item_cnt_day'].sum()\n",
        "dfm.head()\n",
        "dfm.plot()"
      ],
      "execution_count": null,
      "outputs": [
        {
          "output_type": "execute_result",
          "data": {
            "text/plain": [
              "<matplotlib.axes._subplots.AxesSubplot at 0x7f8841f2f240>"
            ]
          },
          "metadata": {
            "tags": []
          },
          "execution_count": 26
        },
        {
          "output_type": "display_data",
          "data": {
            "image/png": "[encoded data removed]",
            "text/plain": [
              "<Figure size 432x288 with 1 Axes>"
            ]
          },
          "metadata": {
            "tags": [],
            "needs_background": "light"
          }
        }
      ]
    },
    {
      "cell_type": "markdown",
      "metadata": {
        "id": "vlDIpwSWnhyE",
        "colab_type": "text"
      },
      "source": [
        "We can see that as the time progresses the item count drops."
      ]
    },
    {
      "cell_type": "markdown",
      "metadata": {
        "id": "rCwa-VTd1djZ",
        "colab_type": "text"
      },
      "source": [
        "Removing the outliers"
      ]
    },
    {
      "cell_type": "code",
      "metadata": {
        "id": "ndCAMlcu2O3j",
        "colab_type": "code",
        "colab": {
          "base_uri": "https://localhost:8080/",
          "height": 297
        },
        "outputId": "243cf088-c279-4090-b2c4-23ce4b99e7fb"
      },
      "source": [
        "plt.figure(figsize=(10,4))\n",
        "plt.xlim(100, 3000)\n",
        "sns.boxplot(x=dataset.item_cnt_day)"
      ],
      "execution_count": null,
      "outputs": [
        {
          "output_type": "execute_result",
          "data": {
            "text/plain": [
              "<matplotlib.axes._subplots.AxesSubplot at 0x7f88414bbda0>"
            ]
          },
          "metadata": {
            "tags": []
          },
          "execution_count": 27
        },
        {
          "output_type": "display_data",
          "data": {
            "image/png": "[encoded data removed]",
            "text/plain": [
              "<Figure size 720x288 with 1 Axes>"
            ]
          },
          "metadata": {
            "tags": [],
            "needs_background": "light"
          }
        }
      ]
    },
    {
      "cell_type": "code",
      "metadata": {
        "id": "kpn9LdGR1zRR",
        "colab_type": "code",
        "colab": {
          "base_uri": "https://localhost:8080/",
          "height": 297
        },
        "outputId": "db52327d-b1c5-474f-b8b8-243d92cc9393"
      },
      "source": [
        "plt.figure(figsize=(10,4))\n",
        "plt.xlim(dataset.item_price.min(), dataset.item_price.max()*1.1)\n",
        "sns.boxplot(x=dataset.item_price)"
      ],
      "execution_count": null,
      "outputs": [
        {
          "output_type": "execute_result",
          "data": {
            "text/plain": [
              "<matplotlib.axes._subplots.AxesSubplot at 0x7f8841ed8358>"
            ]
          },
          "metadata": {
            "tags": []
          },
          "execution_count": 28
        },
        {
          "output_type": "display_data",
          "data": {
            "image/png": "[encoded data removed]",
            "text/plain": [
              "<Figure size 720x288 with 1 Axes>"
            ]
          },
          "metadata": {
            "tags": [],
            "needs_background": "light"
          }
        }
      ]
    },
    {
      "cell_type": "code",
      "metadata": {
        "id": "EyCFr4QXfM_V",
        "colab_type": "code",
        "colab": {}
      },
      "source": [
        "dataset = dataset[dataset.item_price<100000]\n",
        "dataset = dataset[dataset.item_cnt_day<1001]"
      ],
      "execution_count": null,
      "outputs": []
    },
    {
      "cell_type": "code",
      "metadata": {
        "id": "HSfotXOgmXrA",
        "colab_type": "code",
        "colab": {}
      },
      "source": [
        "median = dataset[(dataset.shop_id==32)&(dataset.item_id==2973)&(dataset.date_block_num==4)&(dataset.item_price>0)].item_price.median()\n",
        "dataset.loc[dataset.item_price<0, 'item_price'] = median\n",
        "dataset.loc[dataset.item_cnt_day<0, 'item_cnt_day'] = 1"
      ],
      "execution_count": null,
      "outputs": []
    },
    {
      "cell_type": "code",
      "metadata": {
        "id": "vgBowOOD4JrH",
        "colab_type": "code",
        "colab": {
          "base_uri": "https://localhost:8080/",
          "height": 204
        },
        "outputId": "933d8a00-7503-4737-8c26-5b3daace8add"
      },
      "source": [
        "from itertools import product\n",
        "matrix = []\n",
        "cols = ['date_block_num','shop_id','item_id']\n",
        "for i in range(0,34):\n",
        "  month = dataset[dataset.date_block_num == i]\n",
        "  matrix.append(np.array(list(product([i], month.shop_id.unique(), month.item_id.unique())), dtype='int16'))\n",
        "\n",
        "matrix = pd.DataFrame(np.vstack(matrix), columns=cols)\n",
        "matrix['date_block_num'] = matrix['date_block_num'].astype(np.int8)\n",
        "matrix['shop_id'] = matrix['shop_id'].astype(np.int8)\n",
        "matrix['item_id'] = matrix['item_id'].astype(np.int16)\n",
        "matrix.sort_values(cols,inplace=True)\n",
        "matrix.head()"
      ],
      "execution_count": null,
      "outputs": [
        {
          "output_type": "execute_result",
          "data": {
            "text/html": [
              "<div>\n",
              "<style scoped>\n",
              "    .dataframe tbody tr th:only-of-type {\n",
              "        vertical-align: middle;\n",
              "    }\n",
              "\n",
              "    .dataframe tbody tr th {\n",
              "        vertical-align: top;\n",
              "    }\n",
              "\n",
              "    .dataframe thead th {\n",
              "        text-align: right;\n",
              "    }\n",
              "</style>\n",
              "<table border=\"1\" class=\"dataframe\">\n",
              "  <thead>\n",
              "    <tr style=\"text-align: right;\">\n",
              "      <th></th>\n",
              "      <th>date_block_num</th>\n",
              "      <th>shop_id</th>\n",
              "      <th>item_id</th>\n",
              "    </tr>\n",
              "  </thead>\n",
              "  <tbody>\n",
              "    <tr>\n",
              "      <th>139255</th>\n",
              "      <td>0</td>\n",
              "      <td>0</td>\n",
              "      <td>19</td>\n",
              "    </tr>\n",
              "    <tr>\n",
              "      <th>141495</th>\n",
              "      <td>0</td>\n",
              "      <td>0</td>\n",
              "      <td>27</td>\n",
              "    </tr>\n",
              "    <tr>\n",
              "      <th>144968</th>\n",
              "      <td>0</td>\n",
              "      <td>0</td>\n",
              "      <td>28</td>\n",
              "    </tr>\n",
              "    <tr>\n",
              "      <th>142661</th>\n",
              "      <td>0</td>\n",
              "      <td>0</td>\n",
              "      <td>29</td>\n",
              "    </tr>\n",
              "    <tr>\n",
              "      <th>138947</th>\n",
              "      <td>0</td>\n",
              "      <td>0</td>\n",
              "      <td>32</td>\n",
              "    </tr>\n",
              "  </tbody>\n",
              "</table>\n",
              "</div>"
            ],
            "text/plain": [
              "        date_block_num  shop_id  item_id\n",
              "139255               0        0       19\n",
              "141495               0        0       27\n",
              "144968               0        0       28\n",
              "142661               0        0       29\n",
              "138947               0        0       32"
            ]
          },
          "metadata": {
            "tags": []
          },
          "execution_count": 49
        }
      ]
    },
    {
      "cell_type": "code",
      "metadata": {
        "id": "6osYApjisGOA",
        "colab_type": "code",
        "colab": {}
      },
      "source": [
        "dataset['revenue'] = dataset['item_price'] * dataset['item_cnt_day']"
      ],
      "execution_count": null,
      "outputs": []
    },
    {
      "cell_type": "code",
      "metadata": {
        "id": "0yDTBW2tsYCw",
        "colab_type": "code",
        "colab": {
          "base_uri": "https://localhost:8080/",
          "height": 204
        },
        "outputId": "cb994cab-ad18-4b35-cf18-f10558705859"
      },
      "source": [
        "dataset.head()"
      ],
      "execution_count": null,
      "outputs": [
        {
          "output_type": "execute_result",
          "data": {
            "text/html": [
              "<div>\n",
              "<style scoped>\n",
              "    .dataframe tbody tr th:only-of-type {\n",
              "        vertical-align: middle;\n",
              "    }\n",
              "\n",
              "    .dataframe tbody tr th {\n",
              "        vertical-align: top;\n",
              "    }\n",
              "\n",
              "    .dataframe thead th {\n",
              "        text-align: right;\n",
              "    }\n",
              "</style>\n",
              "<table border=\"1\" class=\"dataframe\">\n",
              "  <thead>\n",
              "    <tr style=\"text-align: right;\">\n",
              "      <th></th>\n",
              "      <th>date</th>\n",
              "      <th>date_block_num</th>\n",
              "      <th>shop_id</th>\n",
              "      <th>item_id</th>\n",
              "      <th>item_price</th>\n",
              "      <th>item_cnt_day</th>\n",
              "      <th>revenue</th>\n",
              "    </tr>\n",
              "  </thead>\n",
              "  <tbody>\n",
              "    <tr>\n",
              "      <th>0</th>\n",
              "      <td>02.01.2013</td>\n",
              "      <td>0</td>\n",
              "      <td>59</td>\n",
              "      <td>22154</td>\n",
              "      <td>999.00</td>\n",
              "      <td>1.0</td>\n",
              "      <td>999.00</td>\n",
              "    </tr>\n",
              "    <tr>\n",
              "      <th>1</th>\n",
              "      <td>03.01.2013</td>\n",
              "      <td>0</td>\n",
              "      <td>25</td>\n",
              "      <td>2552</td>\n",
              "      <td>899.00</td>\n",
              "      <td>1.0</td>\n",
              "      <td>899.00</td>\n",
              "    </tr>\n",
              "    <tr>\n",
              "      <th>2</th>\n",
              "      <td>05.01.2013</td>\n",
              "      <td>0</td>\n",
              "      <td>25</td>\n",
              "      <td>2552</td>\n",
              "      <td>899.00</td>\n",
              "      <td>1.0</td>\n",
              "      <td>899.00</td>\n",
              "    </tr>\n",
              "    <tr>\n",
              "      <th>3</th>\n",
              "      <td>06.01.2013</td>\n",
              "      <td>0</td>\n",
              "      <td>25</td>\n",
              "      <td>2554</td>\n",
              "      <td>1709.05</td>\n",
              "      <td>1.0</td>\n",
              "      <td>1709.05</td>\n",
              "    </tr>\n",
              "    <tr>\n",
              "      <th>4</th>\n",
              "      <td>15.01.2013</td>\n",
              "      <td>0</td>\n",
              "      <td>25</td>\n",
              "      <td>2555</td>\n",
              "      <td>1099.00</td>\n",
              "      <td>1.0</td>\n",
              "      <td>1099.00</td>\n",
              "    </tr>\n",
              "  </tbody>\n",
              "</table>\n",
              "</div>"
            ],
            "text/plain": [
              "         date  date_block_num  shop_id  ...  item_price  item_cnt_day  revenue\n",
              "0  02.01.2013               0       59  ...      999.00           1.0   999.00\n",
              "1  03.01.2013               0       25  ...      899.00           1.0   899.00\n",
              "2  05.01.2013               0       25  ...      899.00           1.0   899.00\n",
              "3  06.01.2013               0       25  ...     1709.05           1.0  1709.05\n",
              "4  15.01.2013               0       25  ...     1099.00           1.0  1099.00\n",
              "\n",
              "[5 rows x 7 columns]"
            ]
          },
          "metadata": {
            "tags": []
          },
          "execution_count": 33
        }
      ]
    },
    {
      "cell_type": "markdown",
      "metadata": {
        "id": "0-HrW6CvJPmG",
        "colab_type": "text"
      },
      "source": [
        "Add the item count per month feature"
      ]
    },
    {
      "cell_type": "code",
      "metadata": {
        "id": "lMkHzVFhtM7I",
        "colab_type": "code",
        "colab": {
          "base_uri": "https://localhost:8080/",
          "height": 255
        },
        "outputId": "49817042-b5f7-4ceb-f992-4934055e70ea"
      },
      "source": [
        "group = dataset.groupby(['date_block_num','shop_id','item_id']).agg({'item_cnt_day': ['sum']})\n",
        "group.columns = ['item_cnt_month']\n",
        "group.reset_index(inplace=True)\n",
        "print(group)\n",
        "matrix = pd.merge(matrix, group, on=cols, how='left')\n",
        "matrix['item_cnt_month'] = (matrix['item_cnt_month']\n",
        "                                .fillna(0)\n",
        "                                .clip(0,20)\n",
        "                                .astype(np.float16))"
      ],
      "execution_count": null,
      "outputs": [
        {
          "output_type": "stream",
          "text": [
            "         date_block_num  shop_id  item_id  item_cnt_month\n",
            "0                     0        0       32             6.0\n",
            "1                     0        0       33             3.0\n",
            "2                     0        0       35             1.0\n",
            "3                     0        0       43             1.0\n",
            "4                     0        0       51             2.0\n",
            "...                 ...      ...      ...             ...\n",
            "1609118              33       59    22087             6.0\n",
            "1609119              33       59    22088             2.0\n",
            "1609120              33       59    22091             1.0\n",
            "1609121              33       59    22100             1.0\n",
            "1609122              33       59    22102             1.0\n",
            "\n",
            "[1609123 rows x 4 columns]\n"
          ],
          "name": "stdout"
        }
      ]
    },
    {
      "cell_type": "code",
      "metadata": {
        "id": "Mq-eEtsVvPQS",
        "colab_type": "code",
        "colab": {
          "base_uri": "https://localhost:8080/",
          "height": 204
        },
        "outputId": "7dd0e70b-f849-41aa-ec5d-84aad5cba139"
      },
      "source": [
        "matrix.head()"
      ],
      "execution_count": null,
      "outputs": [
        {
          "output_type": "execute_result",
          "data": {
            "text/html": [
              "<div>\n",
              "<style scoped>\n",
              "    .dataframe tbody tr th:only-of-type {\n",
              "        vertical-align: middle;\n",
              "    }\n",
              "\n",
              "    .dataframe tbody tr th {\n",
              "        vertical-align: top;\n",
              "    }\n",
              "\n",
              "    .dataframe thead th {\n",
              "        text-align: right;\n",
              "    }\n",
              "</style>\n",
              "<table border=\"1\" class=\"dataframe\">\n",
              "  <thead>\n",
              "    <tr style=\"text-align: right;\">\n",
              "      <th></th>\n",
              "      <th>date_block_num</th>\n",
              "      <th>shop_id</th>\n",
              "      <th>item_id</th>\n",
              "      <th>item_cnt_month</th>\n",
              "    </tr>\n",
              "  </thead>\n",
              "  <tbody>\n",
              "    <tr>\n",
              "      <th>0</th>\n",
              "      <td>0</td>\n",
              "      <td>0</td>\n",
              "      <td>19</td>\n",
              "      <td>0.0</td>\n",
              "    </tr>\n",
              "    <tr>\n",
              "      <th>1</th>\n",
              "      <td>0</td>\n",
              "      <td>0</td>\n",
              "      <td>27</td>\n",
              "      <td>0.0</td>\n",
              "    </tr>\n",
              "    <tr>\n",
              "      <th>2</th>\n",
              "      <td>0</td>\n",
              "      <td>0</td>\n",
              "      <td>28</td>\n",
              "      <td>0.0</td>\n",
              "    </tr>\n",
              "    <tr>\n",
              "      <th>3</th>\n",
              "      <td>0</td>\n",
              "      <td>0</td>\n",
              "      <td>29</td>\n",
              "      <td>0.0</td>\n",
              "    </tr>\n",
              "    <tr>\n",
              "      <th>4</th>\n",
              "      <td>0</td>\n",
              "      <td>0</td>\n",
              "      <td>32</td>\n",
              "      <td>6.0</td>\n",
              "    </tr>\n",
              "  </tbody>\n",
              "</table>\n",
              "</div>"
            ],
            "text/plain": [
              "   date_block_num  shop_id  item_id  item_cnt_month\n",
              "0               0        0       19             0.0\n",
              "1               0        0       27             0.0\n",
              "2               0        0       28             0.0\n",
              "3               0        0       29             0.0\n",
              "4               0        0       32             6.0"
            ]
          },
          "metadata": {
            "tags": []
          },
          "execution_count": 52
        }
      ]
    },
    {
      "cell_type": "markdown",
      "metadata": {
        "id": "I9jf8eNtJZKe",
        "colab_type": "text"
      },
      "source": [
        "Append test pairs to the matrix"
      ]
    },
    {
      "cell_type": "code",
      "metadata": {
        "id": "KdRmAVlgxDqO",
        "colab_type": "code",
        "colab": {
          "base_uri": "https://localhost:8080/",
          "height": 119
        },
        "outputId": "71783eaa-0bf0-4603-eeab-9dfb10fa017c"
      },
      "source": [
        "test['date_block_num'] = 34\n",
        "test['date_block_num'] = test['date_block_num'].astype(np.int8)\n",
        "test['shop_id'] = test['shop_id'].astype(np.int8)\n",
        "test['item_id'] = test['item_id'].astype(np.int16)\n",
        "print(test.head())"
      ],
      "execution_count": null,
      "outputs": [
        {
          "output_type": "stream",
          "text": [
            "   ID  shop_id  item_id  date_block_num\n",
            "0   0        5     5037              34\n",
            "1   1        5     5320              34\n",
            "2   2        5     5233              34\n",
            "3   3        5     5232              34\n",
            "4   4        5     5268              34\n"
          ],
          "name": "stdout"
        }
      ]
    },
    {
      "cell_type": "code",
      "metadata": {
        "id": "WlWzflAKxfmM",
        "colab_type": "code",
        "colab": {}
      },
      "source": [
        "matrix = pd.concat([matrix , test], keys=cols, ignore_index=True, sort=False)\n",
        "matrix.fillna(0, inplace=True)"
      ],
      "execution_count": null,
      "outputs": []
    },
    {
      "cell_type": "code",
      "metadata": {
        "id": "cJkFC6XbPivF",
        "colab_type": "code",
        "colab": {
          "base_uri": "https://localhost:8080/",
          "height": 204
        },
        "outputId": "b09a339f-73ad-4cf6-8898-ba30b3d63941"
      },
      "source": [
        "matrix.head()"
      ],
      "execution_count": null,
      "outputs": [
        {
          "output_type": "execute_result",
          "data": {
            "text/html": [
              "<div>\n",
              "<style scoped>\n",
              "    .dataframe tbody tr th:only-of-type {\n",
              "        vertical-align: middle;\n",
              "    }\n",
              "\n",
              "    .dataframe tbody tr th {\n",
              "        vertical-align: top;\n",
              "    }\n",
              "\n",
              "    .dataframe thead th {\n",
              "        text-align: right;\n",
              "    }\n",
              "</style>\n",
              "<table border=\"1\" class=\"dataframe\">\n",
              "  <thead>\n",
              "    <tr style=\"text-align: right;\">\n",
              "      <th></th>\n",
              "      <th>date_block_num</th>\n",
              "      <th>shop_id</th>\n",
              "      <th>item_id</th>\n",
              "      <th>item_cnt_month</th>\n",
              "      <th>ID</th>\n",
              "    </tr>\n",
              "  </thead>\n",
              "  <tbody>\n",
              "    <tr>\n",
              "      <th>0</th>\n",
              "      <td>0</td>\n",
              "      <td>0</td>\n",
              "      <td>19</td>\n",
              "      <td>0.0</td>\n",
              "      <td>0.0</td>\n",
              "    </tr>\n",
              "    <tr>\n",
              "      <th>1</th>\n",
              "      <td>0</td>\n",
              "      <td>0</td>\n",
              "      <td>27</td>\n",
              "      <td>0.0</td>\n",
              "      <td>0.0</td>\n",
              "    </tr>\n",
              "    <tr>\n",
              "      <th>2</th>\n",
              "      <td>0</td>\n",
              "      <td>0</td>\n",
              "      <td>28</td>\n",
              "      <td>0.0</td>\n",
              "      <td>0.0</td>\n",
              "    </tr>\n",
              "    <tr>\n",
              "      <th>3</th>\n",
              "      <td>0</td>\n",
              "      <td>0</td>\n",
              "      <td>29</td>\n",
              "      <td>0.0</td>\n",
              "      <td>0.0</td>\n",
              "    </tr>\n",
              "    <tr>\n",
              "      <th>4</th>\n",
              "      <td>0</td>\n",
              "      <td>0</td>\n",
              "      <td>32</td>\n",
              "      <td>6.0</td>\n",
              "      <td>0.0</td>\n",
              "    </tr>\n",
              "  </tbody>\n",
              "</table>\n",
              "</div>"
            ],
            "text/plain": [
              "   date_block_num  shop_id  item_id  item_cnt_month   ID\n",
              "0               0        0       19             0.0  0.0\n",
              "1               0        0       27             0.0  0.0\n",
              "2               0        0       28             0.0  0.0\n",
              "3               0        0       29             0.0  0.0\n",
              "4               0        0       32             6.0  0.0"
            ]
          },
          "metadata": {
            "tags": []
          },
          "execution_count": 55
        }
      ]
    },
    {
      "cell_type": "markdown",
      "metadata": {
        "id": "b2etYS1xMjwJ",
        "colab_type": "text"
      },
      "source": [
        "Add lag features"
      ]
    },
    {
      "cell_type": "code",
      "metadata": {
        "id": "IbYBmlkqMjaR",
        "colab_type": "code",
        "colab": {}
      },
      "source": [
        "def lag_feature(df, lags, col):\n",
        "    tmp = df[['date_block_num','shop_id','item_id',col]]\n",
        "    for i in lags:\n",
        "        shifted = tmp.copy()\n",
        "        shifted.columns = ['date_block_num','shop_id','item_id', col+'_lag_'+str(i)]\n",
        "        shifted['date_block_num'] += i\n",
        "        df = pd.merge(df, shifted, on=['date_block_num','shop_id','item_id'], how='left')\n",
        "    return df\n"
      ],
      "execution_count": null,
      "outputs": []
    },
    {
      "cell_type": "code",
      "metadata": {
        "id": "Ydl_10P8Oq20",
        "colab_type": "code",
        "colab": {}
      },
      "source": [
        "matrix = lag_feature(matrix, [1,2,3], 'item_cnt_month')"
      ],
      "execution_count": null,
      "outputs": []
    },
    {
      "cell_type": "code",
      "metadata": {
        "id": "2D21iW33RVnK",
        "colab_type": "code",
        "colab": {
          "base_uri": "https://localhost:8080/",
          "height": 204
        },
        "outputId": "19c3ce46-3498-4501-c119-e6177039a45d"
      },
      "source": [
        "matrix.head()"
      ],
      "execution_count": null,
      "outputs": [
        {
          "output_type": "execute_result",
          "data": {
            "text/html": [
              "<div>\n",
              "<style scoped>\n",
              "    .dataframe tbody tr th:only-of-type {\n",
              "        vertical-align: middle;\n",
              "    }\n",
              "\n",
              "    .dataframe tbody tr th {\n",
              "        vertical-align: top;\n",
              "    }\n",
              "\n",
              "    .dataframe thead th {\n",
              "        text-align: right;\n",
              "    }\n",
              "</style>\n",
              "<table border=\"1\" class=\"dataframe\">\n",
              "  <thead>\n",
              "    <tr style=\"text-align: right;\">\n",
              "      <th></th>\n",
              "      <th>date_block_num</th>\n",
              "      <th>shop_id</th>\n",
              "      <th>item_id</th>\n",
              "      <th>item_cnt_month</th>\n",
              "      <th>ID</th>\n",
              "      <th>item_cnt_month_lag_1</th>\n",
              "      <th>item_cnt_month_lag_2</th>\n",
              "      <th>item_cnt_month_lag_3</th>\n",
              "    </tr>\n",
              "  </thead>\n",
              "  <tbody>\n",
              "    <tr>\n",
              "      <th>0</th>\n",
              "      <td>0</td>\n",
              "      <td>0</td>\n",
              "      <td>19</td>\n",
              "      <td>0.0</td>\n",
              "      <td>0.0</td>\n",
              "      <td>NaN</td>\n",
              "      <td>NaN</td>\n",
              "      <td>NaN</td>\n",
              "    </tr>\n",
              "    <tr>\n",
              "      <th>1</th>\n",
              "      <td>0</td>\n",
              "      <td>0</td>\n",
              "      <td>27</td>\n",
              "      <td>0.0</td>\n",
              "      <td>0.0</td>\n",
              "      <td>NaN</td>\n",
              "      <td>NaN</td>\n",
              "      <td>NaN</td>\n",
              "    </tr>\n",
              "    <tr>\n",
              "      <th>2</th>\n",
              "      <td>0</td>\n",
              "      <td>0</td>\n",
              "      <td>28</td>\n",
              "      <td>0.0</td>\n",
              "      <td>0.0</td>\n",
              "      <td>NaN</td>\n",
              "      <td>NaN</td>\n",
              "      <td>NaN</td>\n",
              "    </tr>\n",
              "    <tr>\n",
              "      <th>3</th>\n",
              "      <td>0</td>\n",
              "      <td>0</td>\n",
              "      <td>29</td>\n",
              "      <td>0.0</td>\n",
              "      <td>0.0</td>\n",
              "      <td>NaN</td>\n",
              "      <td>NaN</td>\n",
              "      <td>NaN</td>\n",
              "    </tr>\n",
              "    <tr>\n",
              "      <th>4</th>\n",
              "      <td>0</td>\n",
              "      <td>0</td>\n",
              "      <td>32</td>\n",
              "      <td>6.0</td>\n",
              "      <td>0.0</td>\n",
              "      <td>NaN</td>\n",
              "      <td>NaN</td>\n",
              "      <td>NaN</td>\n",
              "    </tr>\n",
              "  </tbody>\n",
              "</table>\n",
              "</div>"
            ],
            "text/plain": [
              "   date_block_num  shop_id  ...  item_cnt_month_lag_2  item_cnt_month_lag_3\n",
              "0               0        0  ...                   NaN                   NaN\n",
              "1               0        0  ...                   NaN                   NaN\n",
              "2               0        0  ...                   NaN                   NaN\n",
              "3               0        0  ...                   NaN                   NaN\n",
              "4               0        0  ...                   NaN                   NaN\n",
              "\n",
              "[5 rows x 8 columns]"
            ]
          },
          "metadata": {
            "tags": []
          },
          "execution_count": 58
        }
      ]
    },
    {
      "cell_type": "markdown",
      "metadata": {
        "id": "Vza-5PZSSQu2",
        "colab_type": "text"
      },
      "source": [
        "Add average item cnt for each month"
      ]
    },
    {
      "cell_type": "code",
      "metadata": {
        "id": "9Uj8rw1mSSuO",
        "colab_type": "code",
        "colab": {}
      },
      "source": [
        "group = matrix.groupby('date_block_num').agg({'item_cnt_month' : ['mean']})\n",
        "group.columns = ['date_avg_item_cnt']\n",
        "group.reset_index(inplace=True)\n",
        "\n",
        "matrix = pd.merge(matrix, group, on='date_block_num', how='left')\n",
        "matrix['date_avg_item_cnt'] = matrix['date_avg_item_cnt'].astype(np.float16)\n",
        "matrix = lag_feature(matrix, [1,2,3], 'date_avg_item_cnt')\n",
        "matrix.drop('date_avg_item_cnt', inplace=True, axis=1)"
      ],
      "execution_count": null,
      "outputs": []
    },
    {
      "cell_type": "markdown",
      "metadata": {
        "id": "YPj3UNM3VR2Y",
        "colab_type": "text"
      },
      "source": [
        "Add the average item count for each item in a month"
      ]
    },
    {
      "cell_type": "code",
      "metadata": {
        "id": "jQzkBvXGVZsM",
        "colab_type": "code",
        "colab": {}
      },
      "source": [
        "group = matrix.groupby(['date_block_num', 'item_id']).agg({'item_cnt_month' : ['mean']})\n",
        "group.columns = ['date_item_avg_item_cnt']\n",
        "group.reset_index(inplace=True)\n",
        "\n",
        "matrix = pd.merge(matrix, group, on=['date_block_num', 'item_id'], how='left')\n",
        "matrix['date_item_avg_item_cnt'] = matrix['date_item_avg_item_cnt'].astype(np.float16)\n",
        "matrix = lag_feature(matrix, [1,2,3], 'date_item_avg_item_cnt')\n",
        "matrix.drop('date_item_avg_item_cnt', inplace=True, axis=1) "
      ],
      "execution_count": null,
      "outputs": []
    },
    {
      "cell_type": "markdown",
      "metadata": {
        "id": "N5TWoTIDWyg7",
        "colab_type": "text"
      },
      "source": [
        "Add the average item count for each shop in a month"
      ]
    },
    {
      "cell_type": "code",
      "metadata": {
        "id": "ahmAQPYxW1Cc",
        "colab_type": "code",
        "colab": {}
      },
      "source": [
        "group = matrix.groupby(['date_block_num', 'shop_id']).agg({'item_cnt_month' : ['mean']})\n",
        "group.columns = ['date_shop_avg_item_cnt']\n",
        "group.reset_index(inplace=True)\n",
        "\n",
        "matrix = pd.merge(matrix, group, on=['date_block_num', 'shop_id'], how='left')\n",
        "matrix['date_shop_avg_item_cnt'] = matrix['date_shop_avg_item_cnt'].astype(np.float16)\n",
        "matrix = lag_feature(matrix, [1,2,3], 'date_shop_avg_item_cnt')\n",
        "matrix.drop('date_shop_avg_item_cnt', inplace=True, axis=1) "
      ],
      "execution_count": null,
      "outputs": []
    },
    {
      "cell_type": "markdown",
      "metadata": {
        "id": "Wjmnx87KoSDz",
        "colab_type": "text"
      },
      "source": [
        "Add the price and revenue for each item"
      ]
    },
    {
      "cell_type": "code",
      "metadata": {
        "id": "FORC61fUofwl",
        "colab_type": "code",
        "colab": {
          "base_uri": "https://localhost:8080/",
          "height": 153
        },
        "outputId": "5b30420e-66d6-4f5a-d451-65ee4a9146d0"
      },
      "source": [
        "group = dataset[['date_block_num', 'shop_id', 'item_id', 'item_price', 'revenue']]\n",
        "matrix = pd.merge(matrix, group, how='left', on=cols)\n",
        "matrix.columns"
      ],
      "execution_count": null,
      "outputs": [
        {
          "output_type": "execute_result",
          "data": {
            "text/plain": [
              "Index(['date_block_num', 'shop_id', 'item_id', 'item_cnt_month', 'ID',\n",
              "       'item_cnt_month_lag_1', 'item_cnt_month_lag_2', 'item_cnt_month_lag_3',\n",
              "       'date_avg_item_cnt_lag_1', 'date_avg_item_cnt_lag_2',\n",
              "       'date_avg_item_cnt_lag_3', 'date_item_avg_item_cnt_lag_1',\n",
              "       'date_item_avg_item_cnt_lag_2', 'date_item_avg_item_cnt_lag_3',\n",
              "       'date_shop_avg_item_cnt_lag_1', 'date_shop_avg_item_cnt_lag_2',\n",
              "       'date_shop_avg_item_cnt_lag_3', 'item_price', 'revenue'],\n",
              "      dtype='object')"
            ]
          },
          "metadata": {
            "tags": []
          },
          "execution_count": 62
        }
      ]
    },
    {
      "cell_type": "markdown",
      "metadata": {
        "id": "9UGZ-eTaa3mI",
        "colab_type": "text"
      },
      "source": [
        "Add month, date features"
      ]
    },
    {
      "cell_type": "code",
      "metadata": {
        "id": "0poubsuja8Fc",
        "colab_type": "code",
        "colab": {}
      },
      "source": [
        "matrix['month'] = matrix['date_block_num'] % 12"
      ],
      "execution_count": null,
      "outputs": []
    },
    {
      "cell_type": "code",
      "metadata": {
        "id": "hC1BiouQbg1Q",
        "colab_type": "code",
        "colab": {}
      },
      "source": [
        "days = pd.Series([31,28,31,30,31,30,31,31,30,31,30,31])\n",
        "matrix['days'] = matrix['month'].map(days).astype(np.int8)"
      ],
      "execution_count": null,
      "outputs": []
    },
    {
      "cell_type": "code",
      "metadata": {
        "id": "lCUVcfXAcILQ",
        "colab_type": "code",
        "colab": {}
      },
      "source": [
        "matrix = matrix[matrix.date_block_num > 11]"
      ],
      "execution_count": null,
      "outputs": []
    },
    {
      "cell_type": "markdown",
      "metadata": {
        "id": "EPSiTAepcoXf",
        "colab_type": "text"
      },
      "source": [
        "Fill all the null values"
      ]
    },
    {
      "cell_type": "code",
      "metadata": {
        "id": "q2yeJh00cqo1",
        "colab_type": "code",
        "colab": {}
      },
      "source": [
        "matrix.fillna(0, inplace=True)"
      ],
      "execution_count": null,
      "outputs": []
    },
    {
      "cell_type": "code",
      "metadata": {
        "id": "kr4uyCbGcxbz",
        "colab_type": "code",
        "colab": {
          "base_uri": "https://localhost:8080/",
          "height": 493
        },
        "outputId": "76b51be7-7b28-4d89-f219-c49f9db3d545"
      },
      "source": [
        "matrix.info()"
      ],
      "execution_count": null,
      "outputs": [
        {
          "output_type": "stream",
          "text": [
            "<class 'pandas.core.frame.DataFrame'>\n",
            "Int64Index: 7386180 entries, 5068548 to 12454727\n",
            "Data columns (total 21 columns):\n",
            " #   Column                        Dtype  \n",
            "---  ------                        -----  \n",
            " 0   date_block_num                int8   \n",
            " 1   shop_id                       int8   \n",
            " 2   item_id                       int16  \n",
            " 3   item_cnt_month                float16\n",
            " 4   ID                            float64\n",
            " 5   item_cnt_month_lag_1          float16\n",
            " 6   item_cnt_month_lag_2          float16\n",
            " 7   item_cnt_month_lag_3          float16\n",
            " 8   date_avg_item_cnt_lag_1       float16\n",
            " 9   date_avg_item_cnt_lag_2       float16\n",
            " 10  date_avg_item_cnt_lag_3       float16\n",
            " 11  date_item_avg_item_cnt_lag_1  float16\n",
            " 12  date_item_avg_item_cnt_lag_2  float16\n",
            " 13  date_item_avg_item_cnt_lag_3  float16\n",
            " 14  date_shop_avg_item_cnt_lag_1  float16\n",
            " 15  date_shop_avg_item_cnt_lag_2  float16\n",
            " 16  date_shop_avg_item_cnt_lag_3  float16\n",
            " 17  item_price                    float64\n",
            " 18  revenue                       float64\n",
            " 19  month                         int8   \n",
            " 20  days                          int8   \n",
            "dtypes: float16(13), float64(3), int16(1), int8(4)\n",
            "memory usage: 450.8 MB\n"
          ],
          "name": "stdout"
        }
      ]
    },
    {
      "cell_type": "markdown",
      "metadata": {
        "id": "IVsSekuCdxAK",
        "colab_type": "text"
      },
      "source": [
        "Split the data into training, val and test set"
      ]
    },
    {
      "cell_type": "code",
      "metadata": {
        "id": "e8vdihLLdvog",
        "colab_type": "code",
        "colab": {}
      },
      "source": [
        "X_train = matrix[matrix['date_block_num'] < 33].drop('item_cnt_month', axis=1)\n",
        "Y_train = matrix[matrix['date_block_num'] < 33]['item_cnt_month']\n",
        "X_valid = matrix[matrix.date_block_num == 33].drop(['item_cnt_month'], axis=1)\n",
        "Y_valid = matrix[matrix.date_block_num == 33]['item_cnt_month']\n",
        "X_test = matrix[matrix.date_block_num == 34].drop(['item_cnt_month'], axis=1)"
      ],
      "execution_count": null,
      "outputs": []
    },
    {
      "cell_type": "code",
      "metadata": {
        "id": "mYkAfBSNAfPm",
        "colab_type": "code",
        "colab": {
          "base_uri": "https://localhost:8080/",
          "height": 51
        },
        "outputId": "2168d0d5-7142-481a-c990-ca9b478e7c8b"
      },
      "source": [
        "X_train_series = X_train.values.reshape((X_train.shape[0], X_train.shape[1], 1))\n",
        "X_valid_series = X_valid.values.reshape((X_valid.shape[0], X_valid.shape[1], 1))\n",
        "print('Train set shape', X_train_series.shape)\n",
        "print('Validation set shape', X_valid_series.shape)"
      ],
      "execution_count": null,
      "outputs": [
        {
          "output_type": "stream",
          "text": [
            "Train set shape (6186922, 18, 1)\n",
            "Validation set shape (238172, 18, 1)\n"
          ],
          "name": "stdout"
        }
      ]
    },
    {
      "cell_type": "markdown",
      "metadata": {
        "id": "hHKbpv0BOpug",
        "colab_type": "text"
      },
      "source": [
        "Building your LSTM model"
      ]
    },
    {
      "cell_type": "code",
      "metadata": {
        "id": "yJHCTabkBf7F",
        "colab_type": "code",
        "colab": {}
      },
      "source": [
        "from tensorflow.keras.optimizers import Adam\n",
        "epochs = 40\n",
        "batch = 256\n",
        "lr = 0.0003\n",
        "adam = Adam(lr)"
      ],
      "execution_count": null,
      "outputs": []
    },
    {
      "cell_type": "code",
      "metadata": {
        "id": "kiYr5Yhb2uaZ",
        "colab_type": "code",
        "colab": {
          "base_uri": "https://localhost:8080/",
          "height": 221
        },
        "outputId": "4883b00d-0df2-40ff-e66e-67ccefee74b6"
      },
      "source": [
        "from tensorflow import keras\n",
        "from keras.models import Sequential\n",
        "\n",
        "model_lstm = Sequential()\n",
        "model_lstm.add(keras.layers.LSTM(24, activation='relu', input_shape=(X_train_series.shape[1], X_train_series.shape[2])))\n",
        "model_lstm.add(keras.layers.Dense(1))\n",
        "model_lstm.compile(loss='mse', optimizer=adam)\n",
        "model_lstm.summary()"
      ],
      "execution_count": null,
      "outputs": [
        {
          "output_type": "stream",
          "text": [
            "Model: \"sequential_1\"\n",
            "_________________________________________________________________\n",
            "Layer (type)                 Output Shape              Param #   \n",
            "=================================================================\n",
            "lstm (LSTM)                  (None, 24)                2496      \n",
            "_________________________________________________________________\n",
            "dense (Dense)                (None, 1)                 25        \n",
            "=================================================================\n",
            "Total params: 2,521\n",
            "Trainable params: 2,521\n",
            "Non-trainable params: 0\n",
            "_________________________________________________________________\n"
          ],
          "name": "stdout"
        }
      ]
    },
    {
      "cell_type": "code",
      "metadata": {
        "id": "Q189--hLA-Ti",
        "colab_type": "code",
        "colab": {}
      },
      "source": [
        "lstm_history = model_lstm.fit(X_train_series, Y_train, validation_data=(X_valid_series, Y_valid), epochs=10, verbose=2)"
      ],
      "execution_count": null,
      "outputs": []
    },
    {
      "cell_type": "code",
      "metadata": {
        "id": "Mm9GL3VcCN1v",
        "colab_type": "code",
        "colab": {}
      },
      "source": [
        "from xgboost import XGBRegressor\n",
        "model = XGBRegressor(\n",
        "    max_depth=8,\n",
        "    n_estimators=1000,\n",
        "    min_child_weight=300, \n",
        "    colsample_bytree=0.8, \n",
        "    subsample=0.8, \n",
        "    eta=0.3,    \n",
        "    seed=42)"
      ],
      "execution_count": null,
      "outputs": []
    },
    {
      "cell_type": "code",
      "metadata": {
        "id": "jtrz93YufTPD",
        "colab_type": "code",
        "colab": {
          "base_uri": "https://localhost:8080/",
          "height": 71
        },
        "outputId": "a4bbaced-f052-4437-e480-92d15d832ba8"
      },
      "source": [
        "model.fit(\n",
        "    X_train, \n",
        "    Y_train, \n",
        "    eval_metric=\"rmse\", \n",
        "    eval_set=[(X_train, Y_train), (X_valid, Y_valid)], \n",
        "    verbose=2, \n",
        "    early_stopping_rounds = 10)"
      ],
      "execution_count": null,
      "outputs": [
        {
          "output_type": "stream",
          "text": [
            "[08:33:20] WARNING: /workspace/src/objective/regression_obj.cu:152: reg:linear is now deprecated in favor of reg:squarederror.\n",
            "[08:33:20] WARNING: /workspace/src/learner.cc:686: Tree method is automatically selected to be 'approx' for faster speed. To use old behavior (exact greedy algorithm on single machine), set tree_method to 'exact'.\n"
          ],
          "name": "stdout"
        }
      ]
    },
    {
      "cell_type": "code",
      "metadata": {
        "id": "kV8IHVE_WFzG",
        "colab_type": "code",
        "colab": {}
      },
      "source": [
        "X_test_series = X_test.values.reshape((X_test.shape[0], X_test.shape[1], 1))\n",
        "X_valid_series = X_valid.values.reshape((X_valid.shape[0], X_valid.shape[1], 1))"
      ],
      "execution_count": null,
      "outputs": []
    },
    {
      "cell_type": "code",
      "metadata": {
        "id": "uehOe_lguonT",
        "colab_type": "code",
        "colab": {
          "base_uri": "https://localhost:8080/",
          "height": 34
        },
        "outputId": "5c57ed44-6663-4e90-cb0f-042c2314c28f"
      },
      "source": [
        "Y_pred = model_lstm.predict(X_valid_series).clip(0, 20)\n",
        "Y_test = model_lstm.predict(X_test_series).clip(0, 20)\n",
        "\n",
        "from sklearn.metrics import r2_score\n",
        "print(r2_score(Y_valid, Y_pred))"
      ],
      "execution_count": null,
      "outputs": [
        {
          "output_type": "stream",
          "text": [
            "0.28698434292952646\n"
          ],
          "name": "stdout"
        }
      ]
    },
    {
      "cell_type": "code",
      "metadata": {
        "id": "cCpUH9A2WmAV",
        "colab_type": "code",
        "colab": {
          "base_uri": "https://localhost:8080/",
          "height": 34
        },
        "outputId": "a1378c11-8634-4981-de16-888dc9577b09"
      },
      "source": [
        "print(Y_test.shape)"
      ],
      "execution_count": null,
      "outputs": [
        {
          "output_type": "stream",
          "text": [
            "(214200, 1)\n"
          ],
          "name": "stdout"
        }
      ]
    },
    {
      "cell_type": "code",
      "metadata": {
        "id": "sXCtVM390RH7",
        "colab_type": "code",
        "colab": {}
      },
      "source": [
        "submission = pd.DataFrame({\n",
        "    \"ID\": test.index, \n",
        "    \"item_cnt_month\": Y_test.flatten()\n",
        "})\n",
        "submission.to_csv('xgb_submission.csv', index=False)"
      ],
      "execution_count": null,
      "outputs": []
    },
    {
      "cell_type": "code",
      "metadata": {
        "id": "_qs82Yd00saD",
        "colab_type": "code",
        "colab": {}
      },
      "source": [
        "from xgboost import plot_importance\n",
        "\n",
        "def plot_features(booster, figsize):    \n",
        "    fig, ax = plt.subplots(1,1,figsize=figsize)\n",
        "    return plot_importance(booster=booster, ax=ax)"
      ],
      "execution_count": null,
      "outputs": []
    }
  ]
}