{
  "nbformat": 4,
  "nbformat_minor": 0,
  "metadata": {
    "colab": {
      "name": "Untitled1.ipynb",
      "provenance": []
    },
    "kernelspec": {
      "name": "python3",
      "display_name": "Python 3"
    }
  },
  "cells": [
    {
      "cell_type": "markdown",
      "metadata": {
        "id": "UvGmRxp0DiG2",
        "colab_type": "text"
      },
      "source": [
        "**Breast Cancer Detection Using the Kernel SVM Classifier**\n",
        "\n",
        "Data Set Characteristics: Multivariate,\n",
        "Number of Instances:699  \n",
        "\n",
        "Attribute Information:\n",
        "\n",
        "1. Sample code number: id number\n",
        "2. Clump Thickness: 1 - 10\n",
        "3. Uniformity of Cell Size: 1 - 10\n",
        "4. Uniformity of Cell Shape: 1 - 10\n",
        "5. Marginal Adhesion: 1 - 10\n",
        "6. Single Epithelial Cell Size: 1 - 10\n",
        "7. Bare Nuclei: 1 - 10\n",
        "8. Bland Chromatin: 1 - 10\n",
        "9. Normal Nucleoli: 1 - 10\n",
        "10. Mitoses: 1 - 10\n",
        "11. Class: (2 for benign, 4 for malignant)\n"
      ]
    },
    {
      "cell_type": "markdown",
      "metadata": {
        "id": "tDRET_Aq-eI1",
        "colab_type": "text"
      },
      "source": [
        "Importing the Libraries\n",
        "\n"
      ]
    },
    {
      "cell_type": "code",
      "metadata": {
        "id": "zoDFGnkQ-Znb",
        "colab_type": "code",
        "colab": {}
      },
      "source": [
        "import pandas as pd"
      ],
      "execution_count": 1,
      "outputs": []
    },
    {
      "cell_type": "markdown",
      "metadata": {
        "id": "46LeCFcv-reL",
        "colab_type": "text"
      },
      "source": [
        "Importing the Data Set i.e The Breast Cancer Data Set"
      ]
    },
    {
      "cell_type": "code",
      "metadata": {
        "id": "iVL1ItG2-5bb",
        "colab_type": "code",
        "colab": {}
      },
      "source": [
        "dataset = pd.read_csv('breast_cancer.csv')\n",
        "X = dataset.iloc[:, 1:-1].values\n",
        "y = dataset.iloc[:, -1].values\n",
        "print(X, y)"
      ],
      "execution_count": null,
      "outputs": []
    },
    {
      "cell_type": "markdown",
      "metadata": {
        "id": "O7TwUKbh_i6j",
        "colab_type": "text"
      },
      "source": [
        "Splitting the Data Set"
      ]
    },
    {
      "cell_type": "code",
      "metadata": {
        "id": "_5wrMD4J_xOx",
        "colab_type": "code",
        "colab": {}
      },
      "source": [
        "from sklearn.model_selection import train_test_split\n",
        "X_train, X_test, y_train, y_test = train_test_split(X, y, test_size = 0.2)\n",
        "print(X_train, X_test, y_train, y_test)"
      ],
      "execution_count": null,
      "outputs": []
    },
    {
      "cell_type": "markdown",
      "metadata": {
        "id": "SXKf8Sg9Ad03",
        "colab_type": "text"
      },
      "source": [
        "Training your Kernel SVM Classifier"
      ]
    },
    {
      "cell_type": "code",
      "metadata": {
        "id": "5e-CxtIyA5qX",
        "colab_type": "code",
        "colab": {
          "base_uri": "https://localhost:8080/",
          "height": 85
        },
        "outputId": "a8a5c77f-7d4f-477b-96a5-870c47aec0fa"
      },
      "source": [
        "from sklearn.svm import SVC\n",
        "SVCclassifier = SVC(kernel = 'rbf')\n",
        "SVCclassifier.fit(X_train, y_train) "
      ],
      "execution_count": 22,
      "outputs": [
        {
          "output_type": "execute_result",
          "data": {
            "text/plain": [
              "SVC(C=1.0, break_ties=False, cache_size=200, class_weight=None, coef0=0.0,\n",
              "    decision_function_shape='ovr', degree=3, gamma='scale', kernel='rbf',\n",
              "    max_iter=-1, probability=False, random_state=None, shrinking=True,\n",
              "    tol=0.001, verbose=False)"
            ]
          },
          "metadata": {
            "tags": []
          },
          "execution_count": 22
        }
      ]
    },
    {
      "cell_type": "markdown",
      "metadata": {
        "id": "6H2vN5jgB9lK",
        "colab_type": "text"
      },
      "source": [
        "Testing your classifier against the Test Data"
      ]
    },
    {
      "cell_type": "code",
      "metadata": {
        "id": "8pN36O8KCCXY",
        "colab_type": "code",
        "colab": {}
      },
      "source": [
        "y_pred = SVCclassifier.predict(X_test)"
      ],
      "execution_count": 25,
      "outputs": []
    },
    {
      "cell_type": "markdown",
      "metadata": {
        "id": "a1mwrYe4CSaF",
        "colab_type": "text"
      },
      "source": [
        "Confusion Matrix and Accuracy Score to compare your predicted result and the true result"
      ]
    },
    {
      "cell_type": "code",
      "metadata": {
        "id": "qgsvsQyMCizF",
        "colab_type": "code",
        "colab": {
          "base_uri": "https://localhost:8080/",
          "height": 68
        },
        "outputId": "c5b8ec78-46d7-42aa-cd5b-c2d2b79e99b8"
      },
      "source": [
        "from sklearn.metrics import confusion_matrix, accuracy_score\n",
        "print(confusion_matrix(y_test, y_pred))\n",
        "print(accuracy_score(y_test, y_pred))"
      ],
      "execution_count": 26,
      "outputs": [
        {
          "output_type": "stream",
          "text": [
            "[[92  3]\n",
            " [ 1 41]]\n",
            "0.9708029197080292\n"
          ],
          "name": "stdout"
        }
      ]
    },
    {
      "cell_type": "markdown",
      "metadata": {
        "id": "sjWJ6OXWDU8P",
        "colab_type": "text"
      },
      "source": [
        "We have achieved an accuracy of 97.08% with the Kernel SVM Classifier"
      ]
    },
    {
      "cell_type": "markdown",
      "metadata": {
        "id": "_5blVJcLGZEY",
        "colab_type": "text"
      },
      "source": [
        "Computing the accuracy using the K-Fold Cross Validator"
      ]
    },
    {
      "cell_type": "code",
      "metadata": {
        "id": "6HNeFjv5Gevt",
        "colab_type": "code",
        "colab": {
          "base_uri": "https://localhost:8080/",
          "height": 51
        },
        "outputId": "86927d47-376e-41d6-9523-1710bcd750a8"
      },
      "source": [
        "from sklearn.model_selection import cross_val_score\n",
        "accuracies = cross_val_score(estimator = KNNclassifier, X = X_train, y = y_train, cv = 10)\n",
        "print(\"Accuracy: {:.2f} %\".format(accuracies.mean()*100))\n",
        "print(\"Standard Deviation: {:.2f} %\".format(accuracies.std()*100))"
      ],
      "execution_count": 27,
      "outputs": [
        {
          "output_type": "stream",
          "text": [
            "Accuracy: 97.07 %\n",
            "Standard Deviation: 1.47 %\n"
          ],
          "name": "stdout"
        }
      ]
    }
  ]
}