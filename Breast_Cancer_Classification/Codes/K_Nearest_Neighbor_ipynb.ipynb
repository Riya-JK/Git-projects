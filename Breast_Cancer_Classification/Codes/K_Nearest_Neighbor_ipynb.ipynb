{
  "nbformat": 4,
  "nbformat_minor": 0,
  "metadata": {
    "colab": {
      "name": "K_Nearest_Neighbor.ipynb.ipynb",
      "provenance": []
    },
    "kernelspec": {
      "name": "python3",
      "display_name": "Python 3"
    }
  },
  "cells": [
    {
      "cell_type": "markdown",
      "metadata": {
        "id": "UvGmRxp0DiG2",
        "colab_type": "text"
      },
      "source": [
        "**Breast Cancer Detection Using the KNN Classifier**\n",
        "\n",
        "Data Set Characteristics: Multivariate,\n",
        "Number of Instances:699  \n",
        "\n",
        "Attribute Information:\n",
        "\n",
        "1. Sample code number: id number\n",
        "2. Clump Thickness: 1 - 10\n",
        "3. Uniformity of Cell Size: 1 - 10\n",
        "4. Uniformity of Cell Shape: 1 - 10\n",
        "5. Marginal Adhesion: 1 - 10\n",
        "6. Single Epithelial Cell Size: 1 - 10\n",
        "7. Bare Nuclei: 1 - 10\n",
        "8. Bland Chromatin: 1 - 10\n",
        "9. Normal Nucleoli: 1 - 10\n",
        "10. Mitoses: 1 - 10\n",
        "11. Class: (2 for benign, 4 for malignant)\n"
      ]
    },
    {
      "cell_type": "markdown",
      "metadata": {
        "id": "tDRET_Aq-eI1",
        "colab_type": "text"
      },
      "source": [
        "Importing the Libraries\n",
        "\n"
      ]
    },
    {
      "cell_type": "code",
      "metadata": {
        "id": "zoDFGnkQ-Znb",
        "colab_type": "code",
        "colab": {}
      },
      "source": [
        "import pandas as pd\n",
        "import matplotlib.pyplot as plt"
      ],
      "execution_count": 24,
      "outputs": []
    },
    {
      "cell_type": "markdown",
      "metadata": {
        "id": "46LeCFcv-reL",
        "colab_type": "text"
      },
      "source": [
        "Importing the Data Set i.e The Breast Cancer Data Set"
      ]
    },
    {
      "cell_type": "code",
      "metadata": {
        "id": "iVL1ItG2-5bb",
        "colab_type": "code",
        "colab": {}
      },
      "source": [
        "dataset = pd.read_csv('breast_cancer.csv')\n",
        "X = dataset.iloc[:, 1:-1].values\n",
        "y = dataset.iloc[:, -1].values\n",
        "print(X, y)"
      ],
      "execution_count": null,
      "outputs": []
    },
    {
      "cell_type": "markdown",
      "metadata": {
        "id": "O7TwUKbh_i6j",
        "colab_type": "text"
      },
      "source": [
        "Splitting the Data Set"
      ]
    },
    {
      "cell_type": "code",
      "metadata": {
        "id": "_5wrMD4J_xOx",
        "colab_type": "code",
        "colab": {}
      },
      "source": [
        "from sklearn.model_selection import train_test_split\n",
        "X_train, X_test, y_train, y_test = train_test_split(X, y, test_size = 0.2)\n",
        "print(X_train, X_test, y_train, y_test)"
      ],
      "execution_count": null,
      "outputs": []
    },
    {
      "cell_type": "markdown",
      "metadata": {
        "id": "SXKf8Sg9Ad03",
        "colab_type": "text"
      },
      "source": [
        "Training your KNN Classification Model"
      ]
    },
    {
      "cell_type": "code",
      "metadata": {
        "id": "5e-CxtIyA5qX",
        "colab_type": "code",
        "colab": {
          "base_uri": "https://localhost:8080/",
          "height": 68
        },
        "outputId": "d6148ee0-05fc-48a8-cb3c-107f6f8e9fe6"
      },
      "source": [
        "from sklearn.neighbors import KNeighborsClassifier\n",
        "KNNclassifier = KNeighborsClassifier(n_neighbors = 5, p = 2, metric = 'minkowski')\n",
        "KNNclassifier.fit(X_train, y_train) "
      ],
      "execution_count": 27,
      "outputs": [
        {
          "output_type": "execute_result",
          "data": {
            "text/plain": [
              "KNeighborsClassifier(algorithm='auto', leaf_size=30, metric='minkowski',\n",
              "                     metric_params=None, n_jobs=None, n_neighbors=5, p=2,\n",
              "                     weights='uniform')"
            ]
          },
          "metadata": {
            "tags": []
          },
          "execution_count": 27
        }
      ]
    },
    {
      "cell_type": "markdown",
      "metadata": {
        "id": "6H2vN5jgB9lK",
        "colab_type": "text"
      },
      "source": [
        "Testing your classifier against the Test Data"
      ]
    },
    {
      "cell_type": "code",
      "metadata": {
        "id": "8pN36O8KCCXY",
        "colab_type": "code",
        "colab": {}
      },
      "source": [
        "y_pred = KNNclassifier.predict(X_test)"
      ],
      "execution_count": 28,
      "outputs": []
    },
    {
      "cell_type": "markdown",
      "metadata": {
        "id": "a1mwrYe4CSaF",
        "colab_type": "text"
      },
      "source": [
        "Confusion Matrix and Accuracy Score to compare your predicted result and the true result"
      ]
    },
    {
      "cell_type": "code",
      "metadata": {
        "id": "qgsvsQyMCizF",
        "colab_type": "code",
        "colab": {
          "base_uri": "https://localhost:8080/",
          "height": 68
        },
        "outputId": "9763b79d-a7cf-43e9-b886-44b99449faef"
      },
      "source": [
        "from sklearn.metrics import confusion_matrix, accuracy_score\n",
        "print(confusion_matrix(y_test, y_pred))\n",
        "print(accuracy_score(y_test, y_pred))"
      ],
      "execution_count": 29,
      "outputs": [
        {
          "output_type": "stream",
          "text": [
            "[[88  3]\n",
            " [ 0 46]]\n",
            "0.9781021897810219\n"
          ],
          "name": "stdout"
        }
      ]
    },
    {
      "cell_type": "markdown",
      "metadata": {
        "id": "sjWJ6OXWDU8P",
        "colab_type": "text"
      },
      "source": [
        "Voila! We have achieved an accuracy of 97.8% with the KNN Classifier"
      ]
    },
    {
      "cell_type": "markdown",
      "metadata": {
        "id": "_5blVJcLGZEY",
        "colab_type": "text"
      },
      "source": [
        "Computing the accuracy using the K-Fold Cross Validator"
      ]
    },
    {
      "cell_type": "code",
      "metadata": {
        "id": "6HNeFjv5Gevt",
        "colab_type": "code",
        "colab": {
          "base_uri": "https://localhost:8080/",
          "height": 51
        },
        "outputId": "8c381420-2543-4bfc-b0fb-37838adbc605"
      },
      "source": [
        "from sklearn.model_selection import cross_val_score\n",
        "accuracies = cross_val_score(estimator = KNNclassifier, X = X_train, y = y_train, cv = 10)\n",
        "print(\"Accuracy: {:.2f} %\".format(accuracies.mean()*100))\n",
        "print(\"Standard Deviation: {:.2f} %\".format(accuracies.std()*100))"
      ],
      "execution_count": 30,
      "outputs": [
        {
          "output_type": "stream",
          "text": [
            "Accuracy: 97.07 %\n",
            "Standard Deviation: 1.68 %\n"
          ],
          "name": "stdout"
        }
      ]
    },
    {
      "cell_type": "markdown",
      "metadata": {
        "id": "0QWmQMVgGOjd",
        "colab_type": "text"
      },
      "source": [
        "Plotting the feature importance"
      ]
    },
    {
      "cell_type": "code",
      "metadata": {
        "id": "bOQwL87EFAp4",
        "colab_type": "code",
        "colab": {
          "base_uri": "https://localhost:8080/",
          "height": 422
        },
        "outputId": "0be33440-6892-45a5-b301-1a92ffc023d5"
      },
      "source": [
        "importance = classifier.feature_importances_\n",
        "for i,v in enumerate(importance):\n",
        "  print('Feature: %0d, Score: %.5f' % (i,v))\n",
        "plt.bar([x for x in range(len(importance))], importance)\n",
        "plt.show()"
      ],
      "execution_count": 31,
      "outputs": [
        {
          "output_type": "stream",
          "text": [
            "Feature: 0, Score: 0.03694\n",
            "Feature: 1, Score: 0.33336\n",
            "Feature: 2, Score: 0.17755\n",
            "Feature: 3, Score: 0.03065\n",
            "Feature: 4, Score: 0.14378\n",
            "Feature: 5, Score: 0.22135\n",
            "Feature: 6, Score: 0.03836\n",
            "Feature: 7, Score: 0.01155\n",
            "Feature: 8, Score: 0.00646\n"
          ],
          "name": "stdout"
        },
        {
          "output_type": "display_data",
          "data": {
            "image/png": "[encoded data removed]",
            "text/plain": [
              "<Figure size 432x288 with 1 Axes>"
            ]
          },
          "metadata": {
            "tags": [],
            "needs_background": "light"
          }
        }
      ]
    },
    {
      "cell_type": "markdown",
      "metadata": {
        "id": "Ec0hH-y0JRbQ",
        "colab_type": "text"
      },
      "source": [
        "Feature 1, i.e Clump thickness seems to be the highest weighted feature."
      ]
    }
  ]
}